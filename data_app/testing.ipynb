{
 "cells": [
  {
   "cell_type": "code",
   "execution_count": 36,
   "metadata": {
    "collapsed": true
   },
   "outputs": [],
   "source": [
    "import numpy as np\n",
    "import pandas as pd\n",
    "import sqlite3\n",
    "import matplotlib.pyplot as plt\n",
    "import seaborn as sns\n",
    "%matplotlib inline\n"
   ]
  },
  {
   "cell_type": "code",
   "execution_count": 4,
   "metadata": {
    "collapsed": true
   },
   "outputs": [],
   "source": [
    "conn = sqlite3.connect('seasons.db')\n",
    "df = pd.read_sql(sql = 'select * from season', con = conn)\n",
    "columns = [\"home_team\",\"away_team\",\"fthg\",\"ftag\",\"nmseason\"]\n",
    "df = df[columns]"
   ]
  },
  {
   "cell_type": "code",
   "execution_count": 5,
   "metadata": {},
   "outputs": [
    {
     "name": "stdout",
     "output_type": "stream",
     "text": [
      "<class 'pandas.core.frame.DataFrame'>\n",
      "RangeIndex: 2853 entries, 0 to 2852\n",
      "Data columns (total 5 columns):\n",
      "home_team    2853 non-null object\n",
      "away_team    2853 non-null object\n",
      "fthg         2853 non-null int64\n",
      "ftag         2853 non-null int64\n",
      "nmseason     2853 non-null int64\n",
      "dtypes: int64(3), object(2)\n",
      "memory usage: 111.5+ KB\n"
     ]
    }
   ],
   "source": [
    "df.info()"
   ]
  },
  {
   "cell_type": "code",
   "execution_count": 6,
   "metadata": {
    "collapsed": true
   },
   "outputs": [],
   "source": [
    "teams = df[\"home_team\"].unique()"
   ]
  },
  {
   "cell_type": "code",
   "execution_count": 7,
   "metadata": {
    "collapsed": true
   },
   "outputs": [],
   "source": [
    "# Make dictionary Team:Rating\n",
    "# Rating is Goals For - Goals Against\n",
    "dict = {}\n",
    "for team in teams:\n",
    "    goals_for = df[df[\"home_team\"]==team][\"fthg\"].sum() + df[df[\"away_team\"]==team][\"ftag\"].sum()\n",
    "    goals_against = df[df[\"home_team\"]==team][\"ftag\"].sum() + df[df[\"away_team\"]==team][\"fthg\"].sum()\n",
    "    number_of_games = len(df[(df[\"home_team\"]== team) | (df[\"away_team\"]==team)])\n",
    "    dict[team] = (goals_for - goals_against) / number_of_games\n",
    "    "
   ]
  },
  {
   "cell_type": "code",
   "execution_count": 8,
   "metadata": {},
   "outputs": [
    {
     "data": {
      "text/plain": [
       "0     6\n",
       "19    3\n",
       "31    3\n",
       "46    1\n",
       "64    2\n",
       "Name: fthg, dtype: int64"
      ]
     },
     "execution_count": 8,
     "metadata": {},
     "output_type": "execute_result"
    }
   ],
   "source": [
    "df[df[\"home_team\"]==\"Bayern Munich\"][\"fthg\"].head()"
   ]
  },
  {
   "cell_type": "code",
   "execution_count": 9,
   "metadata": {},
   "outputs": [
    {
     "data": {
      "text/plain": [
       "317"
      ]
     },
     "execution_count": 9,
     "metadata": {},
     "output_type": "execute_result"
    }
   ],
   "source": [
    "len(df[(df[\"home_team\"]==\"Hoffenheim\") | (df[\"away_team\"]==\"Hoffenheim\")])"
   ]
  },
  {
   "cell_type": "code",
   "execution_count": 10,
   "metadata": {},
   "outputs": [
    {
     "data": {
      "text/plain": [
       "home_team    159\n",
       "away_team    159\n",
       "fthg         159\n",
       "ftag         159\n",
       "nmseason     159\n",
       "dtype: int64"
      ]
     },
     "execution_count": 10,
     "metadata": {},
     "output_type": "execute_result"
    }
   ],
   "source": [
    "df[df[\"home_team\"]==\"Hoffenheim\"].count()"
   ]
  },
  {
   "cell_type": "code",
   "execution_count": 11,
   "metadata": {},
   "outputs": [
    {
     "data": {
      "text/plain": [
       "home_team    158\n",
       "away_team    158\n",
       "fthg         158\n",
       "ftag         158\n",
       "nmseason     158\n",
       "dtype: int64"
      ]
     },
     "execution_count": 11,
     "metadata": {},
     "output_type": "execute_result"
    }
   ],
   "source": [
    "df[df[\"away_team\"]==\"Hoffenheim\"].count()"
   ]
  },
  {
   "cell_type": "code",
   "execution_count": 12,
   "metadata": {},
   "outputs": [
    {
     "data": {
      "text/plain": [
       "313"
      ]
     },
     "execution_count": 12,
     "metadata": {},
     "output_type": "execute_result"
    }
   ],
   "source": [
    "156+ 157"
   ]
  },
  {
   "cell_type": "code",
   "execution_count": 47,
   "metadata": {},
   "outputs": [
    {
     "data": {
      "text/plain": [
       "{'Augsburg': -0.2559241706161137,\n",
       " 'Bayern Munich': 1.6549520766773163,\n",
       " 'Bielefeld': -0.7941176470588235,\n",
       " 'Bochum': -0.6911764705882353,\n",
       " 'Braunschweig': -0.9117647058823529,\n",
       " 'Cottbus': -0.7941176470588235,\n",
       " 'Darmstadt': -0.7352941176470589,\n",
       " 'Dortmund': 1.0223642172523961,\n",
       " 'Ein Frankfurt': -0.32616487455197135,\n",
       " 'FC Koln': -0.363265306122449,\n",
       " 'Fortuna Dusseldorf': -0.5294117647058824,\n",
       " 'Freiburg': -0.39591836734693875,\n",
       " 'Greuther Furth': -1.0,\n",
       " 'Hamburg': -0.35782747603833864,\n",
       " 'Hannover': -0.36917562724014336,\n",
       " 'Hertha': -0.2816326530612245,\n",
       " 'Hoffenheim': -0.006389776357827476,\n",
       " 'Ingolstadt': -0.4411764705882353,\n",
       " 'Kaiserslautern': -0.4852941176470588,\n",
       " 'Karlsruhe': -0.7058823529411765,\n",
       " 'Leverkusen': 0.49201277955271566,\n",
       " \"M'gladbach\": 0.05750798722044728,\n",
       " 'Mainz': -0.05017921146953405,\n",
       " 'Nurnberg': -0.4470588235294118,\n",
       " 'Paderborn': -1.0,\n",
       " 'RB Leipzig': 0.7560975609756098,\n",
       " 'Schalke 04': 0.3003194888178914,\n",
       " 'St Pauli': -0.9705882352941176,\n",
       " 'Stuttgart': -0.1111111111111111,\n",
       " 'Werder Bremen': -0.1757188498402556,\n",
       " 'Wolfsburg': 0.14696485623003194}"
      ]
     },
     "execution_count": 47,
     "metadata": {},
     "output_type": "execute_result"
    }
   ],
   "source": [
    "dict"
   ]
  },
  {
   "cell_type": "code",
   "execution_count": 48,
   "metadata": {},
   "outputs": [
    {
     "data": {
      "text/html": [
       "<div>\n",
       "<style>\n",
       "    .dataframe thead tr:only-child th {\n",
       "        text-align: right;\n",
       "    }\n",
       "\n",
       "    .dataframe thead th {\n",
       "        text-align: left;\n",
       "    }\n",
       "\n",
       "    .dataframe tbody tr th {\n",
       "        vertical-align: top;\n",
       "    }\n",
       "</style>\n",
       "<table border=\"1\" class=\"dataframe\">\n",
       "  <thead>\n",
       "    <tr style=\"text-align: right;\">\n",
       "      <th></th>\n",
       "      <th>home_team</th>\n",
       "      <th>away_team</th>\n",
       "      <th>fthg</th>\n",
       "      <th>ftag</th>\n",
       "      <th>nmseason</th>\n",
       "    </tr>\n",
       "  </thead>\n",
       "  <tbody>\n",
       "    <tr>\n",
       "      <th>15</th>\n",
       "      <td>Werder Bremen</td>\n",
       "      <td>Bayern Munich</td>\n",
       "      <td>0</td>\n",
       "      <td>2</td>\n",
       "      <td>17</td>\n",
       "    </tr>\n",
       "    <tr>\n",
       "      <th>21</th>\n",
       "      <td>Hoffenheim</td>\n",
       "      <td>Bayern Munich</td>\n",
       "      <td>2</td>\n",
       "      <td>0</td>\n",
       "      <td>17</td>\n",
       "    </tr>\n",
       "    <tr>\n",
       "      <th>38</th>\n",
       "      <td>Schalke 04</td>\n",
       "      <td>Bayern Munich</td>\n",
       "      <td>0</td>\n",
       "      <td>3</td>\n",
       "      <td>17</td>\n",
       "    </tr>\n",
       "    <tr>\n",
       "      <th>62</th>\n",
       "      <td>Hertha</td>\n",
       "      <td>Bayern Munich</td>\n",
       "      <td>2</td>\n",
       "      <td>2</td>\n",
       "      <td>17</td>\n",
       "    </tr>\n",
       "  </tbody>\n",
       "</table>\n",
       "</div>"
      ],
      "text/plain": [
       "        home_team      away_team  fthg  ftag  nmseason\n",
       "15  Werder Bremen  Bayern Munich     0     2        17\n",
       "21     Hoffenheim  Bayern Munich     2     0        17\n",
       "38     Schalke 04  Bayern Munich     0     3        17\n",
       "62         Hertha  Bayern Munich     2     2        17"
      ]
     },
     "execution_count": 48,
     "metadata": {},
     "output_type": "execute_result"
    }
   ],
   "source": [
    "df[(df['away_team']==\"Bayern Munich\") & (df['nmseason']==17)]"
   ]
  },
  {
   "cell_type": "code",
   "execution_count": 49,
   "metadata": {
    "collapsed": true
   },
   "outputs": [],
   "source": [
    "rating_df =  pd.DataFrame()"
   ]
  },
  {
   "cell_type": "code",
   "execution_count": 50,
   "metadata": {},
   "outputs": [
    {
     "data": {
      "text/plain": [
       "'\\n    Equipe1 Equipe2 Equipe2\\n15\\n14\\n13\\n12\\n11\\n10\\n9\\n8\\n7\\n'"
      ]
     },
     "execution_count": 50,
     "metadata": {},
     "output_type": "execute_result"
    }
   ],
   "source": [
    "# make tableau avec des dates (seasons sur y) et noms des equipes sur x\n",
    "\n",
    "\"\"\"\n",
    "    Equipe1 Equipe2 Equipe2\n",
    "15\n",
    "14\n",
    "13\n",
    "12\n",
    "11\n",
    "10\n",
    "9\n",
    "8\n",
    "7\n",
    "\"\"\""
   ]
  },
  {
   "cell_type": "code",
   "execution_count": 51,
   "metadata": {
    "collapsed": true
   },
   "outputs": [],
   "source": [
    "# teams = df[\"home_team\"].unique() - liste de tous les equipes\n",
    "seasons_tableau = df[\"nmseason\"].unique()"
   ]
  },
  {
   "cell_type": "code",
   "execution_count": 52,
   "metadata": {},
   "outputs": [
    {
     "data": {
      "text/plain": [
       "array([17, 16, 15, 14, 13, 12, 11, 10,  9,  8])"
      ]
     },
     "execution_count": 52,
     "metadata": {},
     "output_type": "execute_result"
    }
   ],
   "source": [
    "seasons_tableau"
   ]
  },
  {
   "cell_type": "code",
   "execution_count": 53,
   "metadata": {
    "collapsed": true
   },
   "outputs": [],
   "source": [
    "dict_res = {}\n",
    "for team in teams:\n",
    "    arr = []\n",
    "    for s in seasons_tableau:\n",
    "        goals_for = df[(df[\"home_team\"]==team) & (df[\"nmseason\"]==s)][\"fthg\"].sum() + df[(df[\"away_team\"]==team) & (df[\"nmseason\"]==s)][\"ftag\"].sum()\n",
    "        goals_against = df[(df[\"home_team\"]==team) & (df[\"nmseason\"]==s)][\"ftag\"].sum() + df[(df[\"away_team\"]==team) & (df[\"nmseason\"]==s)][\"fthg\"].sum()\n",
    "        number_of_games = len(df[((df[\"home_team\"]== team) | (df[\"away_team\"]==team)) & (df[\"nmseason\"]==s)])\n",
    "        if number_of_games != 0:\n",
    "            rate = (goals_for - goals_against) / number_of_games\n",
    "        else:\n",
    "            rate = 0\n",
    "        arr.append(rate)\n",
    "    dict_res[team] = arr\n",
    "# a | b & c"
   ]
  },
  {
   "cell_type": "code",
   "execution_count": 54,
   "metadata": {},
   "outputs": [
    {
     "data": {
      "text/plain": [
       "{'Augsburg': [0.42857142857142855,\n",
       "  -0.47058823529411764,\n",
       "  -0.29411764705882354,\n",
       "  0.0,\n",
       "  0.0,\n",
       "  -0.5294117647058824,\n",
       "  -0.38235294117647056,\n",
       "  0,\n",
       "  0,\n",
       "  0],\n",
       " 'Bayern Munich': [1.2857142857142858,\n",
       "  1.9705882352941178,\n",
       "  1.8529411764705883,\n",
       "  1.8235294117647058,\n",
       "  2.088235294117647,\n",
       "  2.3529411764705883,\n",
       "  1.6176470588235294,\n",
       "  1.2058823529411764,\n",
       "  1.2058823529411764,\n",
       "  0.8529411764705882],\n",
       " 'Bielefeld': [0, 0, 0, 0, 0, 0, 0, 0, 0, -0.7941176470588235],\n",
       " 'Bochum': [0, 0, 0, 0, 0, 0, 0, 0, -0.9117647058823529, -0.47058823529411764],\n",
       " 'Braunschweig': [0, 0, 0, 0, -0.9117647058823529, 0, 0, 0, 0, 0],\n",
       " 'Cottbus': [0, 0, 0, 0, 0, 0, 0, 0, 0, -0.7941176470588235],\n",
       " 'Darmstadt': [0,\n",
       "  -1.0294117647058822,\n",
       "  -0.4411764705882353,\n",
       "  0,\n",
       "  0,\n",
       "  0,\n",
       "  0,\n",
       "  0,\n",
       "  0,\n",
       "  0],\n",
       " 'Dortmund': [2.7142857142857144,\n",
       "  0.9411764705882353,\n",
       "  1.411764705882353,\n",
       "  0.14705882352941177,\n",
       "  1.2352941176470589,\n",
       "  1.1470588235294117,\n",
       "  1.6176470588235294,\n",
       "  1.3235294117647058,\n",
       "  0.35294117647058826,\n",
       "  0.6764705882352942],\n",
       " 'Ein Frankfurt': [0.0,\n",
       "  -0.20588235294117646,\n",
       "  -0.5294117647058824,\n",
       "  -0.17647058823529413,\n",
       "  -0.5,\n",
       "  0.08823529411764706,\n",
       "  0,\n",
       "  -0.5294117647058824,\n",
       "  -0.20588235294117646,\n",
       "  -0.6176470588235294],\n",
       " 'FC Koln': [-1.8571428571428572,\n",
       "  0.2647058823529412,\n",
       "  -0.11764705882352941,\n",
       "  -0.17647058823529413,\n",
       "  0,\n",
       "  0,\n",
       "  -1.0588235294117647,\n",
       "  -0.4411764705882353,\n",
       "  -0.2647058823529412,\n",
       "  -0.4411764705882353],\n",
       " 'Fortuna Dusseldorf': [0, 0, 0, 0, 0, -0.5294117647058824, 0, 0, 0, 0],\n",
       " 'Freiburg': [-0.8571428571428571,\n",
       "  -0.5294117647058824,\n",
       "  0,\n",
       "  -0.3235294117647059,\n",
       "  -0.5294117647058824,\n",
       "  0.14705882352941177,\n",
       "  -0.47058823529411764,\n",
       "  -0.2647058823529412,\n",
       "  -0.7058823529411765,\n",
       "  0],\n",
       " 'Greuther Furth': [0, 0, 0, 0, 0, -1.0, 0, 0, 0, 0],\n",
       " 'Hamburg': [-1.0,\n",
       "  -0.8235294117647058,\n",
       "  -0.17647058823529413,\n",
       "  -0.7352941176470589,\n",
       "  -0.7058823529411765,\n",
       "  -0.3235294117647059,\n",
       "  -0.6470588235294118,\n",
       "  -0.17647058823529413,\n",
       "  0.4411764705882353,\n",
       "  0.058823529411764705],\n",
       " 'Hannover': [0.42857142857142855,\n",
       "  0,\n",
       "  -0.9117647058823529,\n",
       "  -0.47058823529411764,\n",
       "  -0.38235294117647056,\n",
       "  -0.058823529411764705,\n",
       "  -0.11764705882352941,\n",
       "  0.11764705882352941,\n",
       "  -0.7058823529411765,\n",
       "  -0.5882352941176471],\n",
       " 'Hertha': [0.0,\n",
       "  -0.11764705882352941,\n",
       "  0.0,\n",
       "  -0.47058823529411764,\n",
       "  -0.23529411764705882,\n",
       "  0,\n",
       "  -0.7647058823529411,\n",
       "  0,\n",
       "  -0.6470588235294118,\n",
       "  0.20588235294117646],\n",
       " 'Hoffenheim': [0.7142857142857143,\n",
       "  0.7941176470588235,\n",
       "  -0.4411764705882353,\n",
       "  -0.17647058823529413,\n",
       "  0.058823529411764705,\n",
       "  -0.7352941176470589,\n",
       "  -0.17647058823529413,\n",
       "  0.0,\n",
       "  0.058823529411764705,\n",
       "  0.4117647058823529],\n",
       " 'Ingolstadt': [0,\n",
       "  -0.6176470588235294,\n",
       "  -0.2647058823529412,\n",
       "  0,\n",
       "  0,\n",
       "  0,\n",
       "  0,\n",
       "  0,\n",
       "  0,\n",
       "  0],\n",
       " 'Kaiserslautern': [0,\n",
       "  0,\n",
       "  0,\n",
       "  0,\n",
       "  0,\n",
       "  0,\n",
       "  -0.8823529411764706,\n",
       "  -0.08823529411764706,\n",
       "  0,\n",
       "  0],\n",
       " 'Karlsruhe': [0, 0, 0, 0, 0, 0, 0, 0, 0, -0.7058823529411765],\n",
       " 'Leverkusen': [0.2857142857142857,\n",
       "  -0.058823529411764705,\n",
       "  0.47058823529411764,\n",
       "  0.7352941176470589,\n",
       "  0.5588235294117647,\n",
       "  0.7647058823529411,\n",
       "  0.23529411764705882,\n",
       "  0.5882352941176471,\n",
       "  0.7941176470588235,\n",
       "  0.38235294117647056],\n",
       " \"M'gladbach\": [-0.2857142857142857,\n",
       "  -0.11764705882352941,\n",
       "  0.5,\n",
       "  0.7941176470588235,\n",
       "  0.47058823529411764,\n",
       "  -0.11764705882352941,\n",
       "  0.7352941176470589,\n",
       "  -0.5,\n",
       "  -0.5,\n",
       "  -0.6764705882352942],\n",
       " 'Mainz': [-0.5714285714285714,\n",
       "  -0.3235294117647059,\n",
       "  0.11764705882352941,\n",
       "  -0.058823529411764705,\n",
       "  -0.058823529411764705,\n",
       "  -0.058823529411764705,\n",
       "  -0.11764705882352941,\n",
       "  0.38235294117647056,\n",
       "  -0.17647058823529413,\n",
       "  0],\n",
       " 'Nurnberg': [0,\n",
       "  0,\n",
       "  0,\n",
       "  0,\n",
       "  -0.9705882352941176,\n",
       "  -0.23529411764705882,\n",
       "  -0.3235294117647059,\n",
       "  0.058823529411764705,\n",
       "  -0.7647058823529411,\n",
       "  0],\n",
       " 'Paderborn': [0, 0, 0, -1.0, 0, 0, 0, 0, 0, 0],\n",
       " 'RB Leipzig': [0.5714285714285714,\n",
       "  0.7941176470588235,\n",
       "  0,\n",
       "  0,\n",
       "  0,\n",
       "  0,\n",
       "  0,\n",
       "  0,\n",
       "  0,\n",
       "  0],\n",
       " 'Schalke 04': [-0.14285714285714285,\n",
       "  0.14705882352941177,\n",
       "  0.058823529411764705,\n",
       "  0.058823529411764705,\n",
       "  0.5882352941176471,\n",
       "  0.23529411764705882,\n",
       "  0.8823529411764706,\n",
       "  -0.17647058823529413,\n",
       "  0.6470588235294118,\n",
       "  0.35294117647058826],\n",
       " 'St Pauli': [0, 0, 0, 0, 0, 0, 0, -0.9705882352941176, 0, 0],\n",
       " 'Stuttgart': [-0.7142857142857143,\n",
       "  0,\n",
       "  -0.7352941176470589,\n",
       "  -0.5294117647058824,\n",
       "  -0.38235294117647056,\n",
       "  -0.5294117647058824,\n",
       "  0.5,\n",
       "  0.029411764705882353,\n",
       "  0.29411764705882354,\n",
       "  0.5882352941176471],\n",
       " 'Werder Bremen': [-0.5714285714285714,\n",
       "  -0.08823529411764706,\n",
       "  -0.4411764705882353,\n",
       "  -0.4411764705882353,\n",
       "  -0.7058823529411765,\n",
       "  -0.47058823529411764,\n",
       "  -0.2647058823529412,\n",
       "  -0.4117647058823529,\n",
       "  0.9117647058823529,\n",
       "  0.4117647058823529],\n",
       " 'Wolfsburg': [-0.42857142857142855,\n",
       "  -0.5294117647058824,\n",
       "  -0.058823529411764705,\n",
       "  1.0,\n",
       "  0.38235294117647056,\n",
       "  -0.14705882352941177,\n",
       "  -0.38235294117647056,\n",
       "  -0.14705882352941177,\n",
       "  0.17647058823529413,\n",
       "  1.1470588235294117]}"
      ]
     },
     "execution_count": 54,
     "metadata": {},
     "output_type": "execute_result"
    }
   ],
   "source": [
    "dict_res"
   ]
  },
  {
   "cell_type": "code",
   "execution_count": 55,
   "metadata": {
    "collapsed": true
   },
   "outputs": [],
   "source": [
    "df2 = pd.DataFrame(dict_res, index=seasons_tableau, columns=teams)"
   ]
  },
  {
   "cell_type": "code",
   "execution_count": 56,
   "metadata": {},
   "outputs": [
    {
     "data": {
      "text/html": [
       "<div>\n",
       "<style>\n",
       "    .dataframe thead tr:only-child th {\n",
       "        text-align: right;\n",
       "    }\n",
       "\n",
       "    .dataframe thead th {\n",
       "        text-align: left;\n",
       "    }\n",
       "\n",
       "    .dataframe tbody tr th {\n",
       "        vertical-align: top;\n",
       "    }\n",
       "</style>\n",
       "<table border=\"1\" class=\"dataframe\">\n",
       "  <thead>\n",
       "    <tr style=\"text-align: right;\">\n",
       "      <th></th>\n",
       "      <th>Bayern Munich</th>\n",
       "      <th>Hamburg</th>\n",
       "      <th>Hertha</th>\n",
       "      <th>Hoffenheim</th>\n",
       "      <th>Mainz</th>\n",
       "      <th>Schalke 04</th>\n",
       "      <th>Wolfsburg</th>\n",
       "      <th>Freiburg</th>\n",
       "      <th>M'gladbach</th>\n",
       "      <th>FC Koln</th>\n",
       "      <th>...</th>\n",
       "      <th>Braunschweig</th>\n",
       "      <th>Nurnberg</th>\n",
       "      <th>Greuther Furth</th>\n",
       "      <th>Fortuna Dusseldorf</th>\n",
       "      <th>Kaiserslautern</th>\n",
       "      <th>St Pauli</th>\n",
       "      <th>Bochum</th>\n",
       "      <th>Bielefeld</th>\n",
       "      <th>Cottbus</th>\n",
       "      <th>Karlsruhe</th>\n",
       "    </tr>\n",
       "  </thead>\n",
       "  <tbody>\n",
       "    <tr>\n",
       "      <th>17</th>\n",
       "      <td>1.285714</td>\n",
       "      <td>-1.000000</td>\n",
       "      <td>0.000000</td>\n",
       "      <td>0.714286</td>\n",
       "      <td>-0.571429</td>\n",
       "      <td>-0.142857</td>\n",
       "      <td>-0.428571</td>\n",
       "      <td>-0.857143</td>\n",
       "      <td>-0.285714</td>\n",
       "      <td>-1.857143</td>\n",
       "      <td>...</td>\n",
       "      <td>0.000000</td>\n",
       "      <td>0.000000</td>\n",
       "      <td>0.0</td>\n",
       "      <td>0.000000</td>\n",
       "      <td>0.000000</td>\n",
       "      <td>0.000000</td>\n",
       "      <td>0.000000</td>\n",
       "      <td>0.000000</td>\n",
       "      <td>0.000000</td>\n",
       "      <td>0.000000</td>\n",
       "    </tr>\n",
       "    <tr>\n",
       "      <th>16</th>\n",
       "      <td>1.970588</td>\n",
       "      <td>-0.823529</td>\n",
       "      <td>-0.117647</td>\n",
       "      <td>0.794118</td>\n",
       "      <td>-0.323529</td>\n",
       "      <td>0.147059</td>\n",
       "      <td>-0.529412</td>\n",
       "      <td>-0.529412</td>\n",
       "      <td>-0.117647</td>\n",
       "      <td>0.264706</td>\n",
       "      <td>...</td>\n",
       "      <td>0.000000</td>\n",
       "      <td>0.000000</td>\n",
       "      <td>0.0</td>\n",
       "      <td>0.000000</td>\n",
       "      <td>0.000000</td>\n",
       "      <td>0.000000</td>\n",
       "      <td>0.000000</td>\n",
       "      <td>0.000000</td>\n",
       "      <td>0.000000</td>\n",
       "      <td>0.000000</td>\n",
       "    </tr>\n",
       "    <tr>\n",
       "      <th>15</th>\n",
       "      <td>1.852941</td>\n",
       "      <td>-0.176471</td>\n",
       "      <td>0.000000</td>\n",
       "      <td>-0.441176</td>\n",
       "      <td>0.117647</td>\n",
       "      <td>0.058824</td>\n",
       "      <td>-0.058824</td>\n",
       "      <td>0.000000</td>\n",
       "      <td>0.500000</td>\n",
       "      <td>-0.117647</td>\n",
       "      <td>...</td>\n",
       "      <td>0.000000</td>\n",
       "      <td>0.000000</td>\n",
       "      <td>0.0</td>\n",
       "      <td>0.000000</td>\n",
       "      <td>0.000000</td>\n",
       "      <td>0.000000</td>\n",
       "      <td>0.000000</td>\n",
       "      <td>0.000000</td>\n",
       "      <td>0.000000</td>\n",
       "      <td>0.000000</td>\n",
       "    </tr>\n",
       "    <tr>\n",
       "      <th>14</th>\n",
       "      <td>1.823529</td>\n",
       "      <td>-0.735294</td>\n",
       "      <td>-0.470588</td>\n",
       "      <td>-0.176471</td>\n",
       "      <td>-0.058824</td>\n",
       "      <td>0.058824</td>\n",
       "      <td>1.000000</td>\n",
       "      <td>-0.323529</td>\n",
       "      <td>0.794118</td>\n",
       "      <td>-0.176471</td>\n",
       "      <td>...</td>\n",
       "      <td>0.000000</td>\n",
       "      <td>0.000000</td>\n",
       "      <td>0.0</td>\n",
       "      <td>0.000000</td>\n",
       "      <td>0.000000</td>\n",
       "      <td>0.000000</td>\n",
       "      <td>0.000000</td>\n",
       "      <td>0.000000</td>\n",
       "      <td>0.000000</td>\n",
       "      <td>0.000000</td>\n",
       "    </tr>\n",
       "    <tr>\n",
       "      <th>13</th>\n",
       "      <td>2.088235</td>\n",
       "      <td>-0.705882</td>\n",
       "      <td>-0.235294</td>\n",
       "      <td>0.058824</td>\n",
       "      <td>-0.058824</td>\n",
       "      <td>0.588235</td>\n",
       "      <td>0.382353</td>\n",
       "      <td>-0.529412</td>\n",
       "      <td>0.470588</td>\n",
       "      <td>0.000000</td>\n",
       "      <td>...</td>\n",
       "      <td>-0.911765</td>\n",
       "      <td>-0.970588</td>\n",
       "      <td>0.0</td>\n",
       "      <td>0.000000</td>\n",
       "      <td>0.000000</td>\n",
       "      <td>0.000000</td>\n",
       "      <td>0.000000</td>\n",
       "      <td>0.000000</td>\n",
       "      <td>0.000000</td>\n",
       "      <td>0.000000</td>\n",
       "    </tr>\n",
       "    <tr>\n",
       "      <th>12</th>\n",
       "      <td>2.352941</td>\n",
       "      <td>-0.323529</td>\n",
       "      <td>0.000000</td>\n",
       "      <td>-0.735294</td>\n",
       "      <td>-0.058824</td>\n",
       "      <td>0.235294</td>\n",
       "      <td>-0.147059</td>\n",
       "      <td>0.147059</td>\n",
       "      <td>-0.117647</td>\n",
       "      <td>0.000000</td>\n",
       "      <td>...</td>\n",
       "      <td>0.000000</td>\n",
       "      <td>-0.235294</td>\n",
       "      <td>-1.0</td>\n",
       "      <td>-0.529412</td>\n",
       "      <td>0.000000</td>\n",
       "      <td>0.000000</td>\n",
       "      <td>0.000000</td>\n",
       "      <td>0.000000</td>\n",
       "      <td>0.000000</td>\n",
       "      <td>0.000000</td>\n",
       "    </tr>\n",
       "    <tr>\n",
       "      <th>11</th>\n",
       "      <td>1.617647</td>\n",
       "      <td>-0.647059</td>\n",
       "      <td>-0.764706</td>\n",
       "      <td>-0.176471</td>\n",
       "      <td>-0.117647</td>\n",
       "      <td>0.882353</td>\n",
       "      <td>-0.382353</td>\n",
       "      <td>-0.470588</td>\n",
       "      <td>0.735294</td>\n",
       "      <td>-1.058824</td>\n",
       "      <td>...</td>\n",
       "      <td>0.000000</td>\n",
       "      <td>-0.323529</td>\n",
       "      <td>0.0</td>\n",
       "      <td>0.000000</td>\n",
       "      <td>-0.882353</td>\n",
       "      <td>0.000000</td>\n",
       "      <td>0.000000</td>\n",
       "      <td>0.000000</td>\n",
       "      <td>0.000000</td>\n",
       "      <td>0.000000</td>\n",
       "    </tr>\n",
       "    <tr>\n",
       "      <th>10</th>\n",
       "      <td>1.205882</td>\n",
       "      <td>-0.176471</td>\n",
       "      <td>0.000000</td>\n",
       "      <td>0.000000</td>\n",
       "      <td>0.382353</td>\n",
       "      <td>-0.176471</td>\n",
       "      <td>-0.147059</td>\n",
       "      <td>-0.264706</td>\n",
       "      <td>-0.500000</td>\n",
       "      <td>-0.441176</td>\n",
       "      <td>...</td>\n",
       "      <td>0.000000</td>\n",
       "      <td>0.058824</td>\n",
       "      <td>0.0</td>\n",
       "      <td>0.000000</td>\n",
       "      <td>-0.088235</td>\n",
       "      <td>-0.970588</td>\n",
       "      <td>0.000000</td>\n",
       "      <td>0.000000</td>\n",
       "      <td>0.000000</td>\n",
       "      <td>0.000000</td>\n",
       "    </tr>\n",
       "    <tr>\n",
       "      <th>9</th>\n",
       "      <td>1.205882</td>\n",
       "      <td>0.441176</td>\n",
       "      <td>-0.647059</td>\n",
       "      <td>0.058824</td>\n",
       "      <td>-0.176471</td>\n",
       "      <td>0.647059</td>\n",
       "      <td>0.176471</td>\n",
       "      <td>-0.705882</td>\n",
       "      <td>-0.500000</td>\n",
       "      <td>-0.264706</td>\n",
       "      <td>...</td>\n",
       "      <td>0.000000</td>\n",
       "      <td>-0.764706</td>\n",
       "      <td>0.0</td>\n",
       "      <td>0.000000</td>\n",
       "      <td>0.000000</td>\n",
       "      <td>0.000000</td>\n",
       "      <td>-0.911765</td>\n",
       "      <td>0.000000</td>\n",
       "      <td>0.000000</td>\n",
       "      <td>0.000000</td>\n",
       "    </tr>\n",
       "    <tr>\n",
       "      <th>8</th>\n",
       "      <td>0.852941</td>\n",
       "      <td>0.058824</td>\n",
       "      <td>0.205882</td>\n",
       "      <td>0.411765</td>\n",
       "      <td>0.000000</td>\n",
       "      <td>0.352941</td>\n",
       "      <td>1.147059</td>\n",
       "      <td>0.000000</td>\n",
       "      <td>-0.676471</td>\n",
       "      <td>-0.441176</td>\n",
       "      <td>...</td>\n",
       "      <td>0.000000</td>\n",
       "      <td>0.000000</td>\n",
       "      <td>0.0</td>\n",
       "      <td>0.000000</td>\n",
       "      <td>0.000000</td>\n",
       "      <td>0.000000</td>\n",
       "      <td>-0.470588</td>\n",
       "      <td>-0.794118</td>\n",
       "      <td>-0.794118</td>\n",
       "      <td>-0.705882</td>\n",
       "    </tr>\n",
       "  </tbody>\n",
       "</table>\n",
       "<p>10 rows × 31 columns</p>\n",
       "</div>"
      ],
      "text/plain": [
       "    Bayern Munich   Hamburg    Hertha  Hoffenheim     Mainz  Schalke 04  \\\n",
       "17       1.285714 -1.000000  0.000000    0.714286 -0.571429   -0.142857   \n",
       "16       1.970588 -0.823529 -0.117647    0.794118 -0.323529    0.147059   \n",
       "15       1.852941 -0.176471  0.000000   -0.441176  0.117647    0.058824   \n",
       "14       1.823529 -0.735294 -0.470588   -0.176471 -0.058824    0.058824   \n",
       "13       2.088235 -0.705882 -0.235294    0.058824 -0.058824    0.588235   \n",
       "12       2.352941 -0.323529  0.000000   -0.735294 -0.058824    0.235294   \n",
       "11       1.617647 -0.647059 -0.764706   -0.176471 -0.117647    0.882353   \n",
       "10       1.205882 -0.176471  0.000000    0.000000  0.382353   -0.176471   \n",
       "9        1.205882  0.441176 -0.647059    0.058824 -0.176471    0.647059   \n",
       "8        0.852941  0.058824  0.205882    0.411765  0.000000    0.352941   \n",
       "\n",
       "    Wolfsburg  Freiburg  M'gladbach   FC Koln    ...      Braunschweig  \\\n",
       "17  -0.428571 -0.857143   -0.285714 -1.857143    ...          0.000000   \n",
       "16  -0.529412 -0.529412   -0.117647  0.264706    ...          0.000000   \n",
       "15  -0.058824  0.000000    0.500000 -0.117647    ...          0.000000   \n",
       "14   1.000000 -0.323529    0.794118 -0.176471    ...          0.000000   \n",
       "13   0.382353 -0.529412    0.470588  0.000000    ...         -0.911765   \n",
       "12  -0.147059  0.147059   -0.117647  0.000000    ...          0.000000   \n",
       "11  -0.382353 -0.470588    0.735294 -1.058824    ...          0.000000   \n",
       "10  -0.147059 -0.264706   -0.500000 -0.441176    ...          0.000000   \n",
       "9    0.176471 -0.705882   -0.500000 -0.264706    ...          0.000000   \n",
       "8    1.147059  0.000000   -0.676471 -0.441176    ...          0.000000   \n",
       "\n",
       "    Nurnberg  Greuther Furth  Fortuna Dusseldorf  Kaiserslautern  St Pauli  \\\n",
       "17  0.000000             0.0            0.000000        0.000000  0.000000   \n",
       "16  0.000000             0.0            0.000000        0.000000  0.000000   \n",
       "15  0.000000             0.0            0.000000        0.000000  0.000000   \n",
       "14  0.000000             0.0            0.000000        0.000000  0.000000   \n",
       "13 -0.970588             0.0            0.000000        0.000000  0.000000   \n",
       "12 -0.235294            -1.0           -0.529412        0.000000  0.000000   \n",
       "11 -0.323529             0.0            0.000000       -0.882353  0.000000   \n",
       "10  0.058824             0.0            0.000000       -0.088235 -0.970588   \n",
       "9  -0.764706             0.0            0.000000        0.000000  0.000000   \n",
       "8   0.000000             0.0            0.000000        0.000000  0.000000   \n",
       "\n",
       "      Bochum  Bielefeld   Cottbus  Karlsruhe  \n",
       "17  0.000000   0.000000  0.000000   0.000000  \n",
       "16  0.000000   0.000000  0.000000   0.000000  \n",
       "15  0.000000   0.000000  0.000000   0.000000  \n",
       "14  0.000000   0.000000  0.000000   0.000000  \n",
       "13  0.000000   0.000000  0.000000   0.000000  \n",
       "12  0.000000   0.000000  0.000000   0.000000  \n",
       "11  0.000000   0.000000  0.000000   0.000000  \n",
       "10  0.000000   0.000000  0.000000   0.000000  \n",
       "9  -0.911765   0.000000  0.000000   0.000000  \n",
       "8  -0.470588  -0.794118 -0.794118  -0.705882  \n",
       "\n",
       "[10 rows x 31 columns]"
      ]
     },
     "execution_count": 56,
     "metadata": {},
     "output_type": "execute_result"
    }
   ],
   "source": [
    "df2"
   ]
  },
  {
   "cell_type": "code",
   "execution_count": 57,
   "metadata": {},
   "outputs": [
    {
     "name": "stdout",
     "output_type": "stream",
     "text": [
      "<class 'pandas.core.frame.DataFrame'>\n",
      "Int64Index: 10 entries, 17 to 8\n",
      "Data columns (total 31 columns):\n",
      "Bayern Munich         10 non-null float64\n",
      "Hamburg               10 non-null float64\n",
      "Hertha                10 non-null float64\n",
      "Hoffenheim            10 non-null float64\n",
      "Mainz                 10 non-null float64\n",
      "Schalke 04            10 non-null float64\n",
      "Wolfsburg             10 non-null float64\n",
      "Freiburg              10 non-null float64\n",
      "M'gladbach            10 non-null float64\n",
      "FC Koln               10 non-null float64\n",
      "Augsburg              10 non-null float64\n",
      "Dortmund              10 non-null float64\n",
      "Ein Frankfurt         10 non-null float64\n",
      "Leverkusen            10 non-null float64\n",
      "Stuttgart             10 non-null float64\n",
      "Werder Bremen         10 non-null float64\n",
      "Hannover              10 non-null float64\n",
      "RB Leipzig            10 non-null float64\n",
      "Darmstadt             10 non-null float64\n",
      "Ingolstadt            10 non-null float64\n",
      "Paderborn             10 non-null float64\n",
      "Braunschweig          10 non-null float64\n",
      "Nurnberg              10 non-null float64\n",
      "Greuther Furth        10 non-null float64\n",
      "Fortuna Dusseldorf    10 non-null float64\n",
      "Kaiserslautern        10 non-null float64\n",
      "St Pauli              10 non-null float64\n",
      "Bochum                10 non-null float64\n",
      "Bielefeld             10 non-null float64\n",
      "Cottbus               10 non-null float64\n",
      "Karlsruhe             10 non-null float64\n",
      "dtypes: float64(31)\n",
      "memory usage: 2.5 KB\n"
     ]
    }
   ],
   "source": [
    "df2.info()"
   ]
  },
  {
   "cell_type": "code",
   "execution_count": 58,
   "metadata": {
    "collapsed": true
   },
   "outputs": [],
   "source": [
    "df5 = df[((df.home_team ==\"Bayern Munich\") | (df.away_team == \"Bayern Munich\")) & ((df.home_team ==\"Mainz\") | (df.away_team == \"Mainz\"))]"
   ]
  },
  {
   "cell_type": "code",
   "execution_count": 59,
   "metadata": {},
   "outputs": [
    {
     "data": {
      "text/html": [
       "<div>\n",
       "<style>\n",
       "    .dataframe thead tr:only-child th {\n",
       "        text-align: right;\n",
       "    }\n",
       "\n",
       "    .dataframe thead th {\n",
       "        text-align: left;\n",
       "    }\n",
       "\n",
       "    .dataframe tbody tr th {\n",
       "        vertical-align: top;\n",
       "    }\n",
       "</style>\n",
       "<table border=\"1\" class=\"dataframe\">\n",
       "  <thead>\n",
       "    <tr style=\"text-align: right;\">\n",
       "      <th></th>\n",
       "      <th>home_team</th>\n",
       "      <th>away_team</th>\n",
       "      <th>fthg</th>\n",
       "      <th>ftag</th>\n",
       "      <th>nmseason</th>\n",
       "    </tr>\n",
       "  </thead>\n",
       "  <tbody>\n",
       "    <tr>\n",
       "      <th>28</th>\n",
       "      <td>Bayern Munich</td>\n",
       "      <td>Mainz</td>\n",
       "      <td>4</td>\n",
       "      <td>0</td>\n",
       "      <td>17</td>\n",
       "    </tr>\n",
       "    <tr>\n",
       "      <th>171</th>\n",
       "      <td>Mainz</td>\n",
       "      <td>Bayern Munich</td>\n",
       "      <td>1</td>\n",
       "      <td>3</td>\n",
       "      <td>16</td>\n",
       "    </tr>\n",
       "    <tr>\n",
       "      <th>325</th>\n",
       "      <td>Bayern Munich</td>\n",
       "      <td>Mainz</td>\n",
       "      <td>2</td>\n",
       "      <td>2</td>\n",
       "      <td>16</td>\n",
       "    </tr>\n",
       "    <tr>\n",
       "      <th>426</th>\n",
       "      <td>Mainz</td>\n",
       "      <td>Bayern Munich</td>\n",
       "      <td>0</td>\n",
       "      <td>3</td>\n",
       "      <td>15</td>\n",
       "    </tr>\n",
       "    <tr>\n",
       "      <th>578</th>\n",
       "      <td>Bayern Munich</td>\n",
       "      <td>Mainz</td>\n",
       "      <td>1</td>\n",
       "      <td>2</td>\n",
       "      <td>15</td>\n",
       "    </tr>\n",
       "    <tr>\n",
       "      <th>819</th>\n",
       "      <td>Mainz</td>\n",
       "      <td>Bayern Munich</td>\n",
       "      <td>1</td>\n",
       "      <td>2</td>\n",
       "      <td>14</td>\n",
       "    </tr>\n",
       "    <tr>\n",
       "      <th>972</th>\n",
       "      <td>Bayern Munich</td>\n",
       "      <td>Mainz</td>\n",
       "      <td>2</td>\n",
       "      <td>0</td>\n",
       "      <td>14</td>\n",
       "    </tr>\n",
       "    <tr>\n",
       "      <th>1054</th>\n",
       "      <td>Bayern Munich</td>\n",
       "      <td>Mainz</td>\n",
       "      <td>4</td>\n",
       "      <td>1</td>\n",
       "      <td>13</td>\n",
       "    </tr>\n",
       "    <tr>\n",
       "      <th>1208</th>\n",
       "      <td>Mainz</td>\n",
       "      <td>Bayern Munich</td>\n",
       "      <td>0</td>\n",
       "      <td>2</td>\n",
       "      <td>13</td>\n",
       "    </tr>\n",
       "    <tr>\n",
       "      <th>1306</th>\n",
       "      <td>Bayern Munich</td>\n",
       "      <td>Mainz</td>\n",
       "      <td>3</td>\n",
       "      <td>1</td>\n",
       "      <td>12</td>\n",
       "    </tr>\n",
       "    <tr>\n",
       "      <th>1462</th>\n",
       "      <td>Mainz</td>\n",
       "      <td>Bayern Munich</td>\n",
       "      <td>0</td>\n",
       "      <td>3</td>\n",
       "      <td>12</td>\n",
       "    </tr>\n",
       "    <tr>\n",
       "      <th>1716</th>\n",
       "      <td>Mainz</td>\n",
       "      <td>Bayern Munich</td>\n",
       "      <td>3</td>\n",
       "      <td>2</td>\n",
       "      <td>11</td>\n",
       "    </tr>\n",
       "    <tr>\n",
       "      <th>1864</th>\n",
       "      <td>Bayern Munich</td>\n",
       "      <td>Mainz</td>\n",
       "      <td>0</td>\n",
       "      <td>0</td>\n",
       "      <td>11</td>\n",
       "    </tr>\n",
       "    <tr>\n",
       "      <th>1945</th>\n",
       "      <td>Bayern Munich</td>\n",
       "      <td>Mainz</td>\n",
       "      <td>1</td>\n",
       "      <td>2</td>\n",
       "      <td>10</td>\n",
       "    </tr>\n",
       "    <tr>\n",
       "      <th>2103</th>\n",
       "      <td>Mainz</td>\n",
       "      <td>Bayern Munich</td>\n",
       "      <td>1</td>\n",
       "      <td>3</td>\n",
       "      <td>10</td>\n",
       "    </tr>\n",
       "    <tr>\n",
       "      <th>2227</th>\n",
       "      <td>Mainz</td>\n",
       "      <td>Bayern Munich</td>\n",
       "      <td>2</td>\n",
       "      <td>1</td>\n",
       "      <td>9</td>\n",
       "    </tr>\n",
       "    <tr>\n",
       "      <th>2377</th>\n",
       "      <td>Bayern Munich</td>\n",
       "      <td>Mainz</td>\n",
       "      <td>3</td>\n",
       "      <td>0</td>\n",
       "      <td>9</td>\n",
       "    </tr>\n",
       "  </tbody>\n",
       "</table>\n",
       "</div>"
      ],
      "text/plain": [
       "          home_team      away_team  fthg  ftag  nmseason\n",
       "28    Bayern Munich          Mainz     4     0        17\n",
       "171           Mainz  Bayern Munich     1     3        16\n",
       "325   Bayern Munich          Mainz     2     2        16\n",
       "426           Mainz  Bayern Munich     0     3        15\n",
       "578   Bayern Munich          Mainz     1     2        15\n",
       "819           Mainz  Bayern Munich     1     2        14\n",
       "972   Bayern Munich          Mainz     2     0        14\n",
       "1054  Bayern Munich          Mainz     4     1        13\n",
       "1208          Mainz  Bayern Munich     0     2        13\n",
       "1306  Bayern Munich          Mainz     3     1        12\n",
       "1462          Mainz  Bayern Munich     0     3        12\n",
       "1716          Mainz  Bayern Munich     3     2        11\n",
       "1864  Bayern Munich          Mainz     0     0        11\n",
       "1945  Bayern Munich          Mainz     1     2        10\n",
       "2103          Mainz  Bayern Munich     1     3        10\n",
       "2227          Mainz  Bayern Munich     2     1         9\n",
       "2377  Bayern Munich          Mainz     3     0         9"
      ]
     },
     "execution_count": 59,
     "metadata": {},
     "output_type": "execute_result"
    }
   ],
   "source": [
    "df5.iloc[:,:]"
   ]
  },
  {
   "cell_type": "code",
   "execution_count": null,
   "metadata": {
    "collapsed": true
   },
   "outputs": [],
   "source": []
  },
  {
   "cell_type": "code",
   "execution_count": null,
   "metadata": {
    "collapsed": true
   },
   "outputs": [],
   "source": []
  },
  {
   "cell_type": "code",
   "execution_count": 60,
   "metadata": {},
   "outputs": [
    {
     "data": {
      "text/html": [
       "<div>\n",
       "<style>\n",
       "    .dataframe thead tr:only-child th {\n",
       "        text-align: right;\n",
       "    }\n",
       "\n",
       "    .dataframe thead th {\n",
       "        text-align: left;\n",
       "    }\n",
       "\n",
       "    .dataframe tbody tr th {\n",
       "        vertical-align: top;\n",
       "    }\n",
       "</style>\n",
       "<table border=\"1\" class=\"dataframe\">\n",
       "  <thead>\n",
       "    <tr style=\"text-align: right;\">\n",
       "      <th></th>\n",
       "      <th>home_team</th>\n",
       "      <th>away_team</th>\n",
       "      <th>fthg</th>\n",
       "      <th>ftag</th>\n",
       "      <th>nmseason</th>\n",
       "    </tr>\n",
       "  </thead>\n",
       "  <tbody>\n",
       "    <tr>\n",
       "      <th>0</th>\n",
       "      <td>Bayern Munich</td>\n",
       "      <td>Leverkusen</td>\n",
       "      <td>3</td>\n",
       "      <td>1</td>\n",
       "      <td>17</td>\n",
       "    </tr>\n",
       "    <tr>\n",
       "      <th>1</th>\n",
       "      <td>Hamburg</td>\n",
       "      <td>Augsburg</td>\n",
       "      <td>1</td>\n",
       "      <td>0</td>\n",
       "      <td>17</td>\n",
       "    </tr>\n",
       "    <tr>\n",
       "      <th>2</th>\n",
       "      <td>Hertha</td>\n",
       "      <td>Stuttgart</td>\n",
       "      <td>2</td>\n",
       "      <td>0</td>\n",
       "      <td>17</td>\n",
       "    </tr>\n",
       "    <tr>\n",
       "      <th>3</th>\n",
       "      <td>Hoffenheim</td>\n",
       "      <td>Werder Bremen</td>\n",
       "      <td>1</td>\n",
       "      <td>0</td>\n",
       "      <td>17</td>\n",
       "    </tr>\n",
       "    <tr>\n",
       "      <th>4</th>\n",
       "      <td>Mainz</td>\n",
       "      <td>Hannover</td>\n",
       "      <td>0</td>\n",
       "      <td>1</td>\n",
       "      <td>17</td>\n",
       "    </tr>\n",
       "  </tbody>\n",
       "</table>\n",
       "</div>"
      ],
      "text/plain": [
       "       home_team      away_team  fthg  ftag  nmseason\n",
       "0  Bayern Munich     Leverkusen     3     1        17\n",
       "1        Hamburg       Augsburg     1     0        17\n",
       "2         Hertha      Stuttgart     2     0        17\n",
       "3     Hoffenheim  Werder Bremen     1     0        17\n",
       "4          Mainz       Hannover     0     1        17"
      ]
     },
     "execution_count": 60,
     "metadata": {},
     "output_type": "execute_result"
    }
   ],
   "source": [
    "df.head()"
   ]
  },
  {
   "cell_type": "code",
   "execution_count": 61,
   "metadata": {
    "collapsed": true
   },
   "outputs": [],
   "source": [
    "#df[df[\"home_team\"]==\"Bayern Munich\"].groupby('home_team')[\"fthg\"].mean() "
   ]
  },
  {
   "cell_type": "code",
   "execution_count": 62,
   "metadata": {},
   "outputs": [
    {
     "data": {
      "text/html": [
       "<div>\n",
       "<style>\n",
       "    .dataframe thead tr:only-child th {\n",
       "        text-align: right;\n",
       "    }\n",
       "\n",
       "    .dataframe thead th {\n",
       "        text-align: left;\n",
       "    }\n",
       "\n",
       "    .dataframe tbody tr th {\n",
       "        vertical-align: top;\n",
       "    }\n",
       "</style>\n",
       "<table border=\"1\" class=\"dataframe\">\n",
       "  <thead>\n",
       "    <tr style=\"text-align: right;\">\n",
       "      <th></th>\n",
       "      <th>count</th>\n",
       "      <th>mean</th>\n",
       "      <th>max</th>\n",
       "      <th>min</th>\n",
       "    </tr>\n",
       "    <tr>\n",
       "      <th>home_team</th>\n",
       "      <th></th>\n",
       "      <th></th>\n",
       "      <th></th>\n",
       "      <th></th>\n",
       "    </tr>\n",
       "  </thead>\n",
       "  <tbody>\n",
       "    <tr>\n",
       "      <th>Augsburg</th>\n",
       "      <td>106</td>\n",
       "      <td>1.330189</td>\n",
       "      <td>4</td>\n",
       "      <td>0</td>\n",
       "    </tr>\n",
       "    <tr>\n",
       "      <th>Bayern Munich</th>\n",
       "      <td>156</td>\n",
       "      <td>2.858974</td>\n",
       "      <td>9</td>\n",
       "      <td>0</td>\n",
       "    </tr>\n",
       "    <tr>\n",
       "      <th>Bielefeld</th>\n",
       "      <td>17</td>\n",
       "      <td>0.941176</td>\n",
       "      <td>2</td>\n",
       "      <td>0</td>\n",
       "    </tr>\n",
       "    <tr>\n",
       "      <th>Bochum</th>\n",
       "      <td>34</td>\n",
       "      <td>1.205882</td>\n",
       "      <td>3</td>\n",
       "      <td>0</td>\n",
       "    </tr>\n",
       "    <tr>\n",
       "      <th>Braunschweig</th>\n",
       "      <td>17</td>\n",
       "      <td>1.058824</td>\n",
       "      <td>4</td>\n",
       "      <td>0</td>\n",
       "    </tr>\n",
       "    <tr>\n",
       "      <th>Cottbus</th>\n",
       "      <td>17</td>\n",
       "      <td>1.117647</td>\n",
       "      <td>3</td>\n",
       "      <td>0</td>\n",
       "    </tr>\n",
       "    <tr>\n",
       "      <th>Darmstadt</th>\n",
       "      <td>34</td>\n",
       "      <td>0.970588</td>\n",
       "      <td>3</td>\n",
       "      <td>0</td>\n",
       "    </tr>\n",
       "    <tr>\n",
       "      <th>Dortmund</th>\n",
       "      <td>156</td>\n",
       "      <td>2.256410</td>\n",
       "      <td>6</td>\n",
       "      <td>0</td>\n",
       "    </tr>\n",
       "    <tr>\n",
       "      <th>Ein Frankfurt</th>\n",
       "      <td>139</td>\n",
       "      <td>1.460432</td>\n",
       "      <td>6</td>\n",
       "      <td>0</td>\n",
       "    </tr>\n",
       "    <tr>\n",
       "      <th>FC Koln</th>\n",
       "      <td>122</td>\n",
       "      <td>1.204918</td>\n",
       "      <td>4</td>\n",
       "      <td>0</td>\n",
       "    </tr>\n",
       "    <tr>\n",
       "      <th>Fortuna Dusseldorf</th>\n",
       "      <td>17</td>\n",
       "      <td>1.411765</td>\n",
       "      <td>4</td>\n",
       "      <td>0</td>\n",
       "    </tr>\n",
       "    <tr>\n",
       "      <th>Freiburg</th>\n",
       "      <td>123</td>\n",
       "      <td>1.300813</td>\n",
       "      <td>5</td>\n",
       "      <td>0</td>\n",
       "    </tr>\n",
       "    <tr>\n",
       "      <th>Greuther Furth</th>\n",
       "      <td>17</td>\n",
       "      <td>0.588235</td>\n",
       "      <td>2</td>\n",
       "      <td>0</td>\n",
       "    </tr>\n",
       "    <tr>\n",
       "      <th>Hamburg</th>\n",
       "      <td>157</td>\n",
       "      <td>1.273885</td>\n",
       "      <td>6</td>\n",
       "      <td>0</td>\n",
       "    </tr>\n",
       "    <tr>\n",
       "      <th>Hannover</th>\n",
       "      <td>139</td>\n",
       "      <td>1.589928</td>\n",
       "      <td>6</td>\n",
       "      <td>0</td>\n",
       "    </tr>\n",
       "    <tr>\n",
       "      <th>Hertha</th>\n",
       "      <td>123</td>\n",
       "      <td>1.252033</td>\n",
       "      <td>6</td>\n",
       "      <td>0</td>\n",
       "    </tr>\n",
       "    <tr>\n",
       "      <th>Hoffenheim</th>\n",
       "      <td>157</td>\n",
       "      <td>1.675159</td>\n",
       "      <td>6</td>\n",
       "      <td>0</td>\n",
       "    </tr>\n",
       "    <tr>\n",
       "      <th>Ingolstadt</th>\n",
       "      <td>34</td>\n",
       "      <td>1.264706</td>\n",
       "      <td>3</td>\n",
       "      <td>0</td>\n",
       "    </tr>\n",
       "    <tr>\n",
       "      <th>Kaiserslautern</th>\n",
       "      <td>34</td>\n",
       "      <td>1.088235</td>\n",
       "      <td>5</td>\n",
       "      <td>0</td>\n",
       "    </tr>\n",
       "    <tr>\n",
       "      <th>Karlsruhe</th>\n",
       "      <td>17</td>\n",
       "      <td>1.058824</td>\n",
       "      <td>4</td>\n",
       "      <td>0</td>\n",
       "    </tr>\n",
       "    <tr>\n",
       "      <th>Leverkusen</th>\n",
       "      <td>156</td>\n",
       "      <td>1.961538</td>\n",
       "      <td>5</td>\n",
       "      <td>0</td>\n",
       "    </tr>\n",
       "    <tr>\n",
       "      <th>M'gladbach</th>\n",
       "      <td>157</td>\n",
       "      <td>1.738854</td>\n",
       "      <td>5</td>\n",
       "      <td>0</td>\n",
       "    </tr>\n",
       "    <tr>\n",
       "      <th>Mainz</th>\n",
       "      <td>140</td>\n",
       "      <td>1.478571</td>\n",
       "      <td>5</td>\n",
       "      <td>0</td>\n",
       "    </tr>\n",
       "    <tr>\n",
       "      <th>Nurnberg</th>\n",
       "      <td>85</td>\n",
       "      <td>1.270588</td>\n",
       "      <td>5</td>\n",
       "      <td>0</td>\n",
       "    </tr>\n",
       "    <tr>\n",
       "      <th>Paderborn</th>\n",
       "      <td>17</td>\n",
       "      <td>1.235294</td>\n",
       "      <td>3</td>\n",
       "      <td>0</td>\n",
       "    </tr>\n",
       "    <tr>\n",
       "      <th>RB Leipzig</th>\n",
       "      <td>20</td>\n",
       "      <td>2.150000</td>\n",
       "      <td>4</td>\n",
       "      <td>0</td>\n",
       "    </tr>\n",
       "    <tr>\n",
       "      <th>Schalke 04</th>\n",
       "      <td>157</td>\n",
       "      <td>1.828025</td>\n",
       "      <td>5</td>\n",
       "      <td>0</td>\n",
       "    </tr>\n",
       "    <tr>\n",
       "      <th>St Pauli</th>\n",
       "      <td>17</td>\n",
       "      <td>1.235294</td>\n",
       "      <td>3</td>\n",
       "      <td>0</td>\n",
       "    </tr>\n",
       "    <tr>\n",
       "      <th>Stuttgart</th>\n",
       "      <td>139</td>\n",
       "      <td>1.589928</td>\n",
       "      <td>7</td>\n",
       "      <td>0</td>\n",
       "    </tr>\n",
       "    <tr>\n",
       "      <th>Werder Bremen</th>\n",
       "      <td>156</td>\n",
       "      <td>1.660256</td>\n",
       "      <td>6</td>\n",
       "      <td>0</td>\n",
       "    </tr>\n",
       "    <tr>\n",
       "      <th>Wolfsburg</th>\n",
       "      <td>157</td>\n",
       "      <td>1.859873</td>\n",
       "      <td>6</td>\n",
       "      <td>0</td>\n",
       "    </tr>\n",
       "  </tbody>\n",
       "</table>\n",
       "</div>"
      ],
      "text/plain": [
       "                    count      mean  max  min\n",
       "home_team                                    \n",
       "Augsburg              106  1.330189    4    0\n",
       "Bayern Munich         156  2.858974    9    0\n",
       "Bielefeld              17  0.941176    2    0\n",
       "Bochum                 34  1.205882    3    0\n",
       "Braunschweig           17  1.058824    4    0\n",
       "Cottbus                17  1.117647    3    0\n",
       "Darmstadt              34  0.970588    3    0\n",
       "Dortmund              156  2.256410    6    0\n",
       "Ein Frankfurt         139  1.460432    6    0\n",
       "FC Koln               122  1.204918    4    0\n",
       "Fortuna Dusseldorf     17  1.411765    4    0\n",
       "Freiburg              123  1.300813    5    0\n",
       "Greuther Furth         17  0.588235    2    0\n",
       "Hamburg               157  1.273885    6    0\n",
       "Hannover              139  1.589928    6    0\n",
       "Hertha                123  1.252033    6    0\n",
       "Hoffenheim            157  1.675159    6    0\n",
       "Ingolstadt             34  1.264706    3    0\n",
       "Kaiserslautern         34  1.088235    5    0\n",
       "Karlsruhe              17  1.058824    4    0\n",
       "Leverkusen            156  1.961538    5    0\n",
       "M'gladbach            157  1.738854    5    0\n",
       "Mainz                 140  1.478571    5    0\n",
       "Nurnberg               85  1.270588    5    0\n",
       "Paderborn              17  1.235294    3    0\n",
       "RB Leipzig             20  2.150000    4    0\n",
       "Schalke 04            157  1.828025    5    0\n",
       "St Pauli               17  1.235294    3    0\n",
       "Stuttgart             139  1.589928    7    0\n",
       "Werder Bremen         156  1.660256    6    0\n",
       "Wolfsburg             157  1.859873    6    0"
      ]
     },
     "execution_count": 62,
     "metadata": {},
     "output_type": "execute_result"
    }
   ],
   "source": [
    "df.groupby(\"home_team\")[\"fthg\"].agg(['count','mean','max','min'])"
   ]
  },
  {
   "cell_type": "code",
   "execution_count": 63,
   "metadata": {
    "collapsed": true
   },
   "outputs": [],
   "source": [
    "%matplotlib inline"
   ]
  },
  {
   "cell_type": "code",
   "execution_count": 64,
   "metadata": {},
   "outputs": [
    {
     "data": {
      "text/plain": [
       "'\\nХотим предсказать fthg ftag\\ny1 = home\\ny2 = !\\n\\nY_test , Y_train\\nX_test, X_train\\n\\ntest -> 20% \\ntrain -> 80%\\n\\ny1 and y2\\n\\nY_test1 , Y_train1\\nX_test1, X_train1\\n\\nY_test2 , Y_train2\\nX_test2, X_train2\\n\\ny1 = ftag\\nx1 = home_team away_team fthg\\n\\nmean = среднее значение -> positianal_rating{team1}; last_games_team{team1}\\nmean(fthg) -> \\n\\n\\nmedian = \\n\\nsklearn\\n\\n'"
      ]
     },
     "execution_count": 64,
     "metadata": {},
     "output_type": "execute_result"
    }
   ],
   "source": [
    "df.head()\n",
    "\"\"\"\n",
    "Хотим предсказать fthg ftag\n",
    "y1 = home\n",
    "y2 = !\n",
    "\n",
    "Y_test , Y_train\n",
    "X_test, X_train\n",
    "\n",
    "test -> 20% \n",
    "train -> 80%\n",
    "\n",
    "y1 and y2\n",
    "\n",
    "Y_test1 , Y_train1\n",
    "X_test1, X_train1\n",
    "\n",
    "Y_test2 , Y_train2\n",
    "X_test2, X_train2\n",
    "\n",
    "y1 = ftag\n",
    "x1 = home_team away_team fthg\n",
    "\n",
    "mean = среднее значение -> positianal_rating{team1}; last_games_team{team1}\n",
    "mean(fthg) -> \n",
    "\n",
    "\n",
    "median = \n",
    "\n",
    "sklearn\n",
    "\n",
    "\"\"\""
   ]
  },
  {
   "cell_type": "code",
   "execution_count": 65,
   "metadata": {},
   "outputs": [
    {
     "data": {
      "text/plain": [
       "<matplotlib.axes._subplots.AxesSubplot at 0x1105e33c8>"
      ]
     },
     "execution_count": 65,
     "metadata": {},
     "output_type": "execute_result"
    },
    {
     "data": {
      "image/png": "[encoded data removed]",
      "text/plain": [
       "<matplotlib.figure.Figure at 0x1105da668>"
      ]
     },
     "metadata": {},
     "output_type": "display_data"
    }
   ],
   "source": [
    "\n",
    "df.drop('nmseason', axis=1).groupby(\"home_team\").mean().plot(kind=\"bar\")"
   ]
  },
  {
   "cell_type": "code",
   "execution_count": 66,
   "metadata": {},
   "outputs": [
    {
     "data": {
      "text/plain": [
       "<matplotlib.axes._subplots.AxesSubplot at 0x11072eef0>"
      ]
     },
     "execution_count": 66,
     "metadata": {},
     "output_type": "execute_result"
    },
    {
     "data": {
      "image/png": "[encoded data removed]",
      "text/plain": [
       "<matplotlib.figure.Figure at 0x110851588>"
      ]
     },
     "metadata": {},
     "output_type": "display_data"
    }
   ],
   "source": [
    "df[df[\"home_team\"]==\"Bayern Munich\"].groupby('nmseason')[\"fthg\"].mean().plot(kind=\"bar\")"
   ]
  },
  {
   "cell_type": "code",
   "execution_count": 67,
   "metadata": {},
   "outputs": [
    {
     "data": {
      "text/plain": [
       "<matplotlib.axes._subplots.AxesSubplot at 0x11083aba8>"
      ]
     },
     "execution_count": 67,
     "metadata": {},
     "output_type": "execute_result"
    },
    {
     "data": {
      "image/png": "[encoded data removed]",
      "text/plain": [
       "<matplotlib.figure.Figure at 0x110978ac8>"
      ]
     },
     "metadata": {},
     "output_type": "display_data"
    }
   ],
   "source": [
    "teams_selected = [\"Bayern Munich\", \"Mainz\"]\n",
    "df2[teams_selected].plot()"
   ]
  },
  {
   "cell_type": "code",
   "execution_count": 68,
   "metadata": {},
   "outputs": [
    {
     "data": {
      "text/html": [
       "<div>\n",
       "<style>\n",
       "    .dataframe thead tr:only-child th {\n",
       "        text-align: right;\n",
       "    }\n",
       "\n",
       "    .dataframe thead th {\n",
       "        text-align: left;\n",
       "    }\n",
       "\n",
       "    .dataframe tbody tr th {\n",
       "        vertical-align: top;\n",
       "    }\n",
       "</style>\n",
       "<table border=\"1\" class=\"dataframe\">\n",
       "  <thead>\n",
       "    <tr style=\"text-align: right;\">\n",
       "      <th></th>\n",
       "      <th>Bayern Munich</th>\n",
       "      <th>Mainz</th>\n",
       "    </tr>\n",
       "  </thead>\n",
       "  <tbody>\n",
       "    <tr>\n",
       "      <th>17</th>\n",
       "      <td>1.285714</td>\n",
       "      <td>-0.571429</td>\n",
       "    </tr>\n",
       "    <tr>\n",
       "      <th>16</th>\n",
       "      <td>1.970588</td>\n",
       "      <td>-0.323529</td>\n",
       "    </tr>\n",
       "    <tr>\n",
       "      <th>15</th>\n",
       "      <td>1.852941</td>\n",
       "      <td>0.117647</td>\n",
       "    </tr>\n",
       "    <tr>\n",
       "      <th>14</th>\n",
       "      <td>1.823529</td>\n",
       "      <td>-0.058824</td>\n",
       "    </tr>\n",
       "    <tr>\n",
       "      <th>13</th>\n",
       "      <td>2.088235</td>\n",
       "      <td>-0.058824</td>\n",
       "    </tr>\n",
       "    <tr>\n",
       "      <th>12</th>\n",
       "      <td>2.352941</td>\n",
       "      <td>-0.058824</td>\n",
       "    </tr>\n",
       "    <tr>\n",
       "      <th>11</th>\n",
       "      <td>1.617647</td>\n",
       "      <td>-0.117647</td>\n",
       "    </tr>\n",
       "    <tr>\n",
       "      <th>10</th>\n",
       "      <td>1.205882</td>\n",
       "      <td>0.382353</td>\n",
       "    </tr>\n",
       "    <tr>\n",
       "      <th>9</th>\n",
       "      <td>1.205882</td>\n",
       "      <td>-0.176471</td>\n",
       "    </tr>\n",
       "    <tr>\n",
       "      <th>8</th>\n",
       "      <td>0.852941</td>\n",
       "      <td>0.000000</td>\n",
       "    </tr>\n",
       "  </tbody>\n",
       "</table>\n",
       "</div>"
      ],
      "text/plain": [
       "    Bayern Munich     Mainz\n",
       "17       1.285714 -0.571429\n",
       "16       1.970588 -0.323529\n",
       "15       1.852941  0.117647\n",
       "14       1.823529 -0.058824\n",
       "13       2.088235 -0.058824\n",
       "12       2.352941 -0.058824\n",
       "11       1.617647 -0.117647\n",
       "10       1.205882  0.382353\n",
       "9        1.205882 -0.176471\n",
       "8        0.852941  0.000000"
      ]
     },
     "execution_count": 68,
     "metadata": {},
     "output_type": "execute_result"
    }
   ],
   "source": [
    "df2[teams_selected]"
   ]
  },
  {
   "cell_type": "code",
   "execution_count": 69,
   "metadata": {
    "collapsed": true
   },
   "outputs": [],
   "source": [
    "df[(df['home_team']==\"Bayern Munich\") ]\n",
    "\n",
    "dict_res1 = {}\n",
    "arr = []\n",
    "for s in seasons_tableau:\n",
    "    goals_for = df[(df[\"home_team\"]==\"Bayern Munich\") & (df[\"nmseason\"]==s)][\"fthg\"].sum()\n",
    "    goals_against = df[(df[\"home_team\"]==\"Bayern Munich\") & (df[\"nmseason\"]==s)][\"ftag\"].sum()\n",
    "    number_of_games = len(df[(df[\"home_team\"]== \"Bayern Munich\") & (df[\"nmseason\"]==s)])\n",
    "    if number_of_games != 0:\n",
    "        rate = (goals_for - goals_against) / number_of_games\n",
    "    else:\n",
    "        rate = 0\n",
    "    arr.append(rate)\n",
    "    dict_res1[\"Bayern Munich\"] = arr"
   ]
  },
  {
   "cell_type": "code",
   "execution_count": 70,
   "metadata": {},
   "outputs": [
    {
     "data": {
      "text/plain": [
       "{'Bayern Munich': [2.0,\n",
       "  2.7058823529411766,\n",
       "  2.5294117647058822,\n",
       "  2.2941176470588234,\n",
       "  1.9411764705882353,\n",
       "  2.6470588235294117,\n",
       "  2.5294117647058822,\n",
       "  2.0588235294117645,\n",
       "  1.5294117647058822,\n",
       "  1.2941176470588236]}"
      ]
     },
     "execution_count": 70,
     "metadata": {},
     "output_type": "execute_result"
    }
   ],
   "source": [
    "dict_res1"
   ]
  },
  {
   "cell_type": "code",
   "execution_count": 71,
   "metadata": {},
   "outputs": [
    {
     "name": "stdout",
     "output_type": "stream",
     "text": [
      "For:1, Against:6, games:3, seasom:17, rate:-1.6666666666666667\n",
      "For:14, Against:29, games:17, seasom:16, rate:-0.8823529411764706\n",
      "For:23, Against:24, games:17, seasom:15, rate:-0.058823529411764705\n",
      "For:18, Against:28, games:17, seasom:14, rate:-0.5882352941176471\n",
      "For:24, Against:37, games:17, seasom:13, rate:-0.7647058823529411\n",
      "For:20, Against:25, games:17, seasom:12, rate:-0.29411764705882354\n",
      "For:20, Against:25, games:17, seasom:11, rate:-0.29411764705882354\n",
      "For:30, Against:23, games:17, seasom:10, rate:0.4117647058823529\n",
      "For:14, Against:28, games:17, seasom:9, rate:-0.8235294117647058\n",
      "For:0, Against:0, games:0, seasom:8, rate:0\n"
     ]
    }
   ],
   "source": [
    "arr = []\n",
    "for s in seasons_tableau:\n",
    "    goals_for = df[(df[\"away_team\"]==\"Mainz\") & (df[\"nmseason\"]==s)][\"ftag\"].sum()\n",
    "    goals_against = df[(df[\"away_team\"]==\"Mainz\") & (df[\"nmseason\"]==s)][\"fthg\"].sum()\n",
    "    number_of_games = len(df[(df[\"away_team\"]== \"Mainz\") & (df[\"nmseason\"]==s)])\n",
    "    if number_of_games != 0:\n",
    "        rate = (goals_for - goals_against) / number_of_games\n",
    "    else:\n",
    "        rate = 0\n",
    "    print(\"For:{}, Against:{}, games:{}, seasom:{}, rate:{}\".format(goals_for,goals_against,number_of_games, s, rate))\n",
    "\n",
    "    arr.append(rate)\n",
    "    dict_res1[\"Mainz\"] = arr"
   ]
  },
  {
   "cell_type": "code",
   "execution_count": 72,
   "metadata": {},
   "outputs": [
    {
     "ename": "NameError",
     "evalue": "name 'our_teams' is not defined",
     "output_type": "error",
     "traceback": [
      "\u001b[0;31m---------------------------------------------------------------------------\u001b[0m",
      "\u001b[0;31mNameError\u001b[0m                                 Traceback (most recent call last)",
      "\u001b[0;32m<ipython-input-72-8d25781d86cf>\u001b[0m in \u001b[0;36m<module>\u001b[0;34m()\u001b[0m\n\u001b[0;32m----> 1\u001b[0;31m \u001b[0mdf3\u001b[0m \u001b[0;34m=\u001b[0m \u001b[0mpd\u001b[0m\u001b[0;34m.\u001b[0m\u001b[0mDataFrame\u001b[0m\u001b[0;34m(\u001b[0m\u001b[0mdict_res1\u001b[0m\u001b[0;34m,\u001b[0m \u001b[0mindex\u001b[0m\u001b[0;34m=\u001b[0m\u001b[0mseasons_tableau\u001b[0m\u001b[0;34m,\u001b[0m \u001b[0mcolumns\u001b[0m\u001b[0;34m=\u001b[0m\u001b[0mour_teams\u001b[0m\u001b[0;34m)\u001b[0m\u001b[0;34m\u001b[0m\u001b[0m\n\u001b[0m\u001b[1;32m      2\u001b[0m \u001b[0mdf3\u001b[0m\u001b[0;34m\u001b[0m\u001b[0m\n",
      "\u001b[0;31mNameError\u001b[0m: name 'our_teams' is not defined"
     ]
    }
   ],
   "source": [
    "df3 = pd.DataFrame(dict_res1, index=seasons_tableau, columns=our_teams)\n",
    "df3"
   ]
  },
  {
   "cell_type": "code",
   "execution_count": 73,
   "metadata": {
    "collapsed": true
   },
   "outputs": [],
   "source": [
    "our_teams = [\"Bayern Munich\",\"Mainz\"]"
   ]
  },
  {
   "cell_type": "code",
   "execution_count": 264,
   "metadata": {},
   "outputs": [
    {
     "data": {
      "text/plain": [
       "['Bayern Munich', 'Mainz']"
      ]
     },
     "execution_count": 264,
     "metadata": {},
     "output_type": "execute_result"
    }
   ],
   "source": [
    "our_teams"
   ]
  },
  {
   "cell_type": "code",
   "execution_count": 268,
   "metadata": {},
   "outputs": [
    {
     "data": {
      "text/plain": [
       "<matplotlib.axes._subplots.AxesSubplot at 0x1127d0588>"
      ]
     },
     "execution_count": 268,
     "metadata": {},
     "output_type": "execute_result"
    },
    {
     "data": {
      "image/png": "[encoded data removed]",
      "text/plain": [
       "<matplotlib.figure.Figure at 0x1127fbc18>"
      ]
     },
     "metadata": {},
     "output_type": "display_data"
    }
   ],
   "source": [
    "df3.plot()"
   ]
  },
  {
   "cell_type": "code",
   "execution_count": 311,
   "metadata": {},
   "outputs": [
    {
     "data": {
      "text/plain": [
       "0"
      ]
     },
     "execution_count": 311,
     "metadata": {},
     "output_type": "execute_result"
    }
   ],
   "source": [
    "num = len(df[(df[\"away_team\"] == 'Mainz') & (df[\"nmseason\"] == 8)])\n",
    "num"
   ]
  },
  {
   "cell_type": "code",
   "execution_count": 306,
   "metadata": {},
   "outputs": [
    {
     "data": {
      "text/plain": [
       "25"
      ]
     },
     "execution_count": 306,
     "metadata": {},
     "output_type": "execute_result"
    }
   ],
   "source": [
    "against = df[(df[\"away_team\"] == 'Mainz') & (df[\"nmseason\"] == 12)][\"fthg\"].sum()\n",
    "against"
   ]
  },
  {
   "cell_type": "code",
   "execution_count": 78,
   "metadata": {},
   "outputs": [
    {
     "data": {
      "text/plain": [
       "20"
      ]
     },
     "execution_count": 78,
     "metadata": {},
     "output_type": "execute_result"
    }
   ],
   "source": [
    "for_g = df[(df[\"away_team\"] == 'Mainz') & (df[\"nmseason\"] == 12)][\"ftag\"].sum()\n",
    "for_g"
   ]
  },
  {
   "cell_type": "code",
   "execution_count": 13,
   "metadata": {},
   "outputs": [
    {
     "data": {
      "text/plain": [
       "fthg        1.334875\n",
       "ftag        1.199256\n",
       "nmseason    2.697274\n",
       "dtype: float64"
      ]
     },
     "execution_count": 13,
     "metadata": {},
     "output_type": "execute_result"
    }
   ],
   "source": [
    "df3 = df[((df[\"away_team\"] == 'Mainz') | (df[\"home_team\"] == 'Bayern Munich')) & (df[\"nmseason\"] == 11) ]\n",
    "df.std()"
   ]
  },
  {
   "cell_type": "code",
   "execution_count": 25,
   "metadata": {},
   "outputs": [
    {
     "data": {
      "text/html": [
       "<div>\n",
       "<style>\n",
       "    .dataframe thead tr:only-child th {\n",
       "        text-align: right;\n",
       "    }\n",
       "\n",
       "    .dataframe thead th {\n",
       "        text-align: left;\n",
       "    }\n",
       "\n",
       "    .dataframe tbody tr th {\n",
       "        vertical-align: top;\n",
       "    }\n",
       "</style>\n",
       "<table border=\"1\" class=\"dataframe\">\n",
       "  <thead>\n",
       "    <tr style=\"text-align: right;\">\n",
       "      <th></th>\n",
       "      <th>home_team</th>\n",
       "      <th>away_team</th>\n",
       "      <th>fthg</th>\n",
       "      <th>ftag</th>\n",
       "      <th>nmseason</th>\n",
       "      <th>H_Bayern Munich</th>\n",
       "      <th>H_Bielefeld</th>\n",
       "      <th>H_Bochum</th>\n",
       "      <th>H_Braunschweig</th>\n",
       "      <th>H_Cottbus</th>\n",
       "      <th>...</th>\n",
       "      <th>A_Mainz</th>\n",
       "      <th>A_Nurnberg</th>\n",
       "      <th>A_Paderborn</th>\n",
       "      <th>A_RB Leipzig</th>\n",
       "      <th>A_Schalke 04</th>\n",
       "      <th>A_St Pauli</th>\n",
       "      <th>A_Stuttgart</th>\n",
       "      <th>A_Werder Bremen</th>\n",
       "      <th>A_Wolfsburg</th>\n",
       "      <th>diff</th>\n",
       "    </tr>\n",
       "  </thead>\n",
       "  <tbody>\n",
       "    <tr>\n",
       "      <th>0</th>\n",
       "      <td>Bayern Munich</td>\n",
       "      <td>Werder Bremen</td>\n",
       "      <td>6</td>\n",
       "      <td>0</td>\n",
       "      <td>16</td>\n",
       "      <td>1</td>\n",
       "      <td>0</td>\n",
       "      <td>0</td>\n",
       "      <td>0</td>\n",
       "      <td>0</td>\n",
       "      <td>...</td>\n",
       "      <td>0</td>\n",
       "      <td>0</td>\n",
       "      <td>0</td>\n",
       "      <td>0</td>\n",
       "      <td>0</td>\n",
       "      <td>0</td>\n",
       "      <td>0</td>\n",
       "      <td>1</td>\n",
       "      <td>0</td>\n",
       "      <td>6</td>\n",
       "    </tr>\n",
       "    <tr>\n",
       "      <th>1</th>\n",
       "      <td>Augsburg</td>\n",
       "      <td>Wolfsburg</td>\n",
       "      <td>0</td>\n",
       "      <td>2</td>\n",
       "      <td>16</td>\n",
       "      <td>0</td>\n",
       "      <td>0</td>\n",
       "      <td>0</td>\n",
       "      <td>0</td>\n",
       "      <td>0</td>\n",
       "      <td>...</td>\n",
       "      <td>0</td>\n",
       "      <td>0</td>\n",
       "      <td>0</td>\n",
       "      <td>0</td>\n",
       "      <td>0</td>\n",
       "      <td>0</td>\n",
       "      <td>0</td>\n",
       "      <td>0</td>\n",
       "      <td>1</td>\n",
       "      <td>-2</td>\n",
       "    </tr>\n",
       "    <tr>\n",
       "      <th>2</th>\n",
       "      <td>Dortmund</td>\n",
       "      <td>Mainz</td>\n",
       "      <td>2</td>\n",
       "      <td>1</td>\n",
       "      <td>16</td>\n",
       "      <td>0</td>\n",
       "      <td>0</td>\n",
       "      <td>0</td>\n",
       "      <td>0</td>\n",
       "      <td>0</td>\n",
       "      <td>...</td>\n",
       "      <td>1</td>\n",
       "      <td>0</td>\n",
       "      <td>0</td>\n",
       "      <td>0</td>\n",
       "      <td>0</td>\n",
       "      <td>0</td>\n",
       "      <td>0</td>\n",
       "      <td>0</td>\n",
       "      <td>0</td>\n",
       "      <td>1</td>\n",
       "    </tr>\n",
       "    <tr>\n",
       "      <th>3</th>\n",
       "      <td>Ein Frankfurt</td>\n",
       "      <td>Schalke 04</td>\n",
       "      <td>1</td>\n",
       "      <td>0</td>\n",
       "      <td>16</td>\n",
       "      <td>0</td>\n",
       "      <td>0</td>\n",
       "      <td>0</td>\n",
       "      <td>0</td>\n",
       "      <td>0</td>\n",
       "      <td>...</td>\n",
       "      <td>0</td>\n",
       "      <td>0</td>\n",
       "      <td>0</td>\n",
       "      <td>0</td>\n",
       "      <td>1</td>\n",
       "      <td>0</td>\n",
       "      <td>0</td>\n",
       "      <td>0</td>\n",
       "      <td>0</td>\n",
       "      <td>1</td>\n",
       "    </tr>\n",
       "    <tr>\n",
       "      <th>4</th>\n",
       "      <td>FC Koln</td>\n",
       "      <td>Darmstadt</td>\n",
       "      <td>2</td>\n",
       "      <td>0</td>\n",
       "      <td>16</td>\n",
       "      <td>0</td>\n",
       "      <td>0</td>\n",
       "      <td>0</td>\n",
       "      <td>0</td>\n",
       "      <td>0</td>\n",
       "      <td>...</td>\n",
       "      <td>0</td>\n",
       "      <td>0</td>\n",
       "      <td>0</td>\n",
       "      <td>0</td>\n",
       "      <td>0</td>\n",
       "      <td>0</td>\n",
       "      <td>0</td>\n",
       "      <td>0</td>\n",
       "      <td>0</td>\n",
       "      <td>2</td>\n",
       "    </tr>\n",
       "  </tbody>\n",
       "</table>\n",
       "<p>5 rows × 66 columns</p>\n",
       "</div>"
      ],
      "text/plain": [
       "       home_team      away_team  fthg  ftag  nmseason  H_Bayern Munich  \\\n",
       "0  Bayern Munich  Werder Bremen     6     0        16                1   \n",
       "1       Augsburg      Wolfsburg     0     2        16                0   \n",
       "2       Dortmund          Mainz     2     1        16                0   \n",
       "3  Ein Frankfurt     Schalke 04     1     0        16                0   \n",
       "4        FC Koln      Darmstadt     2     0        16                0   \n",
       "\n",
       "   H_Bielefeld  H_Bochum  H_Braunschweig  H_Cottbus  ...   A_Mainz  \\\n",
       "0            0         0               0          0  ...         0   \n",
       "1            0         0               0          0  ...         0   \n",
       "2            0         0               0          0  ...         1   \n",
       "3            0         0               0          0  ...         0   \n",
       "4            0         0               0          0  ...         0   \n",
       "\n",
       "   A_Nurnberg  A_Paderborn  A_RB Leipzig  A_Schalke 04  A_St Pauli  \\\n",
       "0           0            0             0             0           0   \n",
       "1           0            0             0             0           0   \n",
       "2           0            0             0             0           0   \n",
       "3           0            0             0             1           0   \n",
       "4           0            0             0             0           0   \n",
       "\n",
       "   A_Stuttgart  A_Werder Bremen  A_Wolfsburg  diff  \n",
       "0            0                1            0     6  \n",
       "1            0                0            1    -2  \n",
       "2            0                0            0     1  \n",
       "3            0                0            0     1  \n",
       "4            0                0            0     2  \n",
       "\n",
       "[5 rows x 66 columns]"
      ]
     },
     "execution_count": 25,
     "metadata": {},
     "output_type": "execute_result"
    }
   ],
   "source": [
    "home_teams = pd.get_dummies(df[\"home_team\"], prefix=\"H\").iloc[:,1:]\n",
    "away_teams = pd.get_dummies(df[\"away_team\"], prefix=\"A\").iloc[:,1:]\n",
    "df_new = pd.concat([df, home_teams, away_teams], axis=1)\n",
    "df_new[\"diff\"] = df_new[\"fthg\"] - df_new[\"ftag\"]\n",
    "#df_new.head()"
   ]
  },
  {
   "cell_type": "code",
   "execution_count": 44,
   "metadata": {},
   "outputs": [
    {
     "data": {
      "text/plain": [
       "1273     True\n",
       "1774     True\n",
       "1751    False\n",
       "2270     True\n",
       "720     False\n",
       "Name: diff, dtype: bool"
      ]
     },
     "execution_count": 44,
     "metadata": {},
     "output_type": "execute_result"
    }
   ],
   "source": [
    "#df_new = df_new.drop(['home_team','away_team', 'fthg', 'ftag'], axis=1) \n",
    "\n",
    "from sklearn.model_selection import train_test_split\n",
    "df_new.head()\n",
    "X = df_new.drop(['diff'], axis=1)\n",
    "\n",
    "y = df_new['diff']\n",
    "\n",
    "X_train, X_test, y_train, y_test = train_test_split(X, y, test_size = 0.2, random_state = 0)\n",
    "\n",
    "# here it goes\n",
    "from sklearn.svm import SVR\n",
    "\n",
    "regressor = SVR(kernel=\"rbf\")\n",
    "\n",
    "regressor.fit(X_train,y_train)\n",
    "\n",
    "prediction = regressor.predict(X_test)\n",
    "prediction_b = prediction > 0\n",
    "y_test_b = y_test > 0 \n",
    "#plt.scatter(y_test_b,prediction_b)\n",
    "#plt.xlabel('Y Test')\n",
    "#plt.ylabel('Predicted Y')\n",
    "y_test_b.head()\n"
   ]
  },
  {
   "cell_type": "code",
   "execution_count": 35,
   "metadata": {},
   "outputs": [
    {
     "ename": "NameError",
     "evalue": "name 'home_teams' is not defined",
     "output_type": "error",
     "traceback": [
      "\u001b[0;31m---------------------------------------------------------------------------\u001b[0m",
      "\u001b[0;31mNameError\u001b[0m                                 Traceback (most recent call last)",
      "\u001b[0;32m<ipython-input-35-b4ff67bfea75>\u001b[0m in \u001b[0;36m<module>\u001b[0;34m()\u001b[0m\n\u001b[1;32m      1\u001b[0m \u001b[0;34m\u001b[0m\u001b[0m\n\u001b[0;32m----> 2\u001b[0;31m \u001b[0mpd\u001b[0m\u001b[0;34m.\u001b[0m\u001b[0mconcat\u001b[0m\u001b[0;34m(\u001b[0m\u001b[0;34m[\u001b[0m\u001b[0mdf\u001b[0m\u001b[0;34m,\u001b[0m \u001b[0mhome_teams\u001b[0m\u001b[0;34m,\u001b[0m \u001b[0maway_teams\u001b[0m\u001b[0;34m]\u001b[0m\u001b[0;34m,\u001b[0m \u001b[0maxis\u001b[0m\u001b[0;34m=\u001b[0m\u001b[0;36m1\u001b[0m\u001b[0;34m)\u001b[0m\u001b[0;34m\u001b[0m\u001b[0m\n\u001b[0m\u001b[1;32m      3\u001b[0m \u001b[0;34m\u001b[0m\u001b[0m\n\u001b[1;32m      4\u001b[0m \u001b[0;31m#another way:\u001b[0m\u001b[0;34m\u001b[0m\u001b[0;34m\u001b[0m\u001b[0m\n\u001b[1;32m      5\u001b[0m \u001b[0mpd\u001b[0m\u001b[0;34m.\u001b[0m\u001b[0mget_dummies\u001b[0m\u001b[0;34m(\u001b[0m\u001b[0mdf\u001b[0m\u001b[0;34m,\u001b[0m \u001b[0mcolumns\u001b[0m\u001b[0;34m=\u001b[0m\u001b[0;34m[\u001b[0m\u001b[0;34m\"home_team\"\u001b[0m\u001b[0;34m,\u001b[0m \u001b[0;34m\"away_team\"\u001b[0m\u001b[0;34m]\u001b[0m\u001b[0;34m,\u001b[0m \u001b[0mdrop_first\u001b[0m\u001b[0;34m=\u001b[0m\u001b[0;32mTrue\u001b[0m\u001b[0;34m)\u001b[0m\u001b[0;34m\u001b[0m\u001b[0m\n",
      "\u001b[0;31mNameError\u001b[0m: name 'home_teams' is not defined"
     ]
    }
   ],
   "source": [
    "\n",
    "pd.concat([df, home_teams, away_teams], axis=1)\n",
    "\n",
    "#another way:\n",
    "pd.get_dummies(df, columns=[\"home_team\", \"away_team\"], drop_first=True)\n",
    "\n",
    "ds_before = df.drop(['ftag'], axis=1) \n",
    "\n",
    "y = df.drop(['home_team','away_team','nmseason', \"fthg\"], axis=1) \n",
    "\n",
    "X = pd.get_dummies(ds_before, columns=[\"home_team\", \"away_team\"], drop_first=True)\n",
    "\n",
    "from sklearn.svm import SVR\n",
    "from sklearn.model_selection import train_test_split\n",
    "\n",
    "regressor = SVR(kernel=\"rbf\")\n",
    "\n",
    "X_train, X_test, y_train, y_test = train_test_split(X, y, test_size = 0.2, random_state = 0)\n",
    "from sklearn.preprocessing import StandardScaler\n",
    "sc_X = StandardScaler()\n",
    "sc_y = StandardScaler()\n",
    "X_train = sc_X.fit_transform(X_train)\n",
    "y_train = sc_y.fit_transform(y_train)\n",
    "\n",
    "regressor.fit(X_train, y_train)\n",
    "\n",
    "y_pred = regressor.predict(X = X_test)\n",
    "\n",
    "y_pred = sc_y.inverse_transform(y_pred)\n",
    "\n",
    "#y_pred\n"
   ]
  },
  {
   "cell_type": "code",
   "execution_count": 36,
   "metadata": {},
   "outputs": [
    {
     "ename": "NameError",
     "evalue": "name 'df_new' is not defined",
     "output_type": "error",
     "traceback": [
      "\u001b[0;31m---------------------------------------------------------------------------\u001b[0m",
      "\u001b[0;31mNameError\u001b[0m                                 Traceback (most recent call last)",
      "\u001b[0;32m<ipython-input-36-295c85eeab0f>\u001b[0m in \u001b[0;36m<module>\u001b[0;34m()\u001b[0m\n\u001b[1;32m      1\u001b[0m \u001b[0my1\u001b[0m \u001b[0;34m=\u001b[0m \u001b[0mdf\u001b[0m\u001b[0;34m.\u001b[0m\u001b[0mdrop\u001b[0m\u001b[0;34m(\u001b[0m\u001b[0;34m[\u001b[0m\u001b[0;34m'home_team'\u001b[0m\u001b[0;34m,\u001b[0m\u001b[0;34m'away_team'\u001b[0m\u001b[0;34m,\u001b[0m\u001b[0;34m'nmseason'\u001b[0m\u001b[0;34m,\u001b[0m \u001b[0;34m\"ftag\"\u001b[0m\u001b[0;34m]\u001b[0m\u001b[0;34m,\u001b[0m \u001b[0maxis\u001b[0m\u001b[0;34m=\u001b[0m\u001b[0;36m1\u001b[0m\u001b[0;34m)\u001b[0m\u001b[0;34m\u001b[0m\u001b[0m\n\u001b[1;32m      2\u001b[0m \u001b[0my2\u001b[0m \u001b[0;34m=\u001b[0m \u001b[0mdf\u001b[0m\u001b[0;34m.\u001b[0m\u001b[0mdrop\u001b[0m\u001b[0;34m(\u001b[0m\u001b[0;34m[\u001b[0m\u001b[0;34m'home_team'\u001b[0m\u001b[0;34m,\u001b[0m\u001b[0;34m'away_team'\u001b[0m\u001b[0;34m,\u001b[0m\u001b[0;34m'nmseason'\u001b[0m\u001b[0;34m,\u001b[0m \u001b[0;34m\"fthg\"\u001b[0m\u001b[0;34m]\u001b[0m\u001b[0;34m,\u001b[0m \u001b[0maxis\u001b[0m\u001b[0;34m=\u001b[0m\u001b[0;36m1\u001b[0m\u001b[0;34m)\u001b[0m\u001b[0;34m\u001b[0m\u001b[0m\n\u001b[0;32m----> 3\u001b[0;31m \u001b[0mX1\u001b[0m \u001b[0;34m=\u001b[0m \u001b[0mdf_new\u001b[0m\u001b[0;34m.\u001b[0m\u001b[0mdrop\u001b[0m\u001b[0;34m(\u001b[0m\u001b[0;34m\"fthg\"\u001b[0m\u001b[0;34m,\u001b[0m \u001b[0maxis\u001b[0m\u001b[0;34m=\u001b[0m\u001b[0;36m1\u001b[0m\u001b[0;34m)\u001b[0m \u001b[0;31m# все кроме домашней\u001b[0m\u001b[0;34m\u001b[0m\u001b[0m\n\u001b[0m\u001b[1;32m      4\u001b[0m \u001b[0mX2\u001b[0m \u001b[0;34m=\u001b[0m \u001b[0mdf_new\u001b[0m\u001b[0;34m.\u001b[0m\u001b[0mdrop\u001b[0m\u001b[0;34m(\u001b[0m\u001b[0;34m\"ftag\"\u001b[0m\u001b[0;34m,\u001b[0m \u001b[0maxis\u001b[0m\u001b[0;34m=\u001b[0m\u001b[0;36m1\u001b[0m\u001b[0;34m)\u001b[0m\u001b[0;34m\u001b[0m\u001b[0m\n",
      "\u001b[0;31mNameError\u001b[0m: name 'df_new' is not defined"
     ]
    }
   ],
   "source": [
    "y1 = df.drop(['home_team','away_team','nmseason', \"ftag\"], axis=1) \n",
    "y2 = df.drop(['home_team','away_team','nmseason', \"fthg\"], axis=1) \n",
    "X1 = df_new.drop(\"fthg\", axis=1) # все кроме домашней\n",
    "X2 = df_new.drop(\"ftag\", axis=1)"
   ]
  },
  {
   "cell_type": "code",
   "execution_count": 15,
   "metadata": {
    "collapsed": true
   },
   "outputs": [],
   "source": [
    "from sklearn.model_selection import train_test_split\n",
    "from sklearn.svm import SVR\n",
    "X_train1, X_test1, y_train1, y_test1 = train_test_split(X1, y1, test_size = 0.2, random_state = 0)\n"
   ]
  },
  {
   "cell_type": "code",
   "execution_count": 16,
   "metadata": {
    "collapsed": true
   },
   "outputs": [],
   "source": [
    "regressor = SVR(kernel=\"rbf\")\n"
   ]
  },
  {
   "cell_type": "code",
   "execution_count": 17,
   "metadata": {},
   "outputs": [
    {
     "data": {
      "text/plain": [
       "SVR(C=1.0, cache_size=200, coef0=0.0, degree=3, epsilon=0.1, gamma='auto',\n",
       "  kernel='rbf', max_iter=-1, shrinking=True, tol=0.001, verbose=False)"
      ]
     },
     "execution_count": 17,
     "metadata": {},
     "output_type": "execute_result"
    }
   ],
   "source": [
    "regressor.fit(X_train1,y_train1.fthg)"
   ]
  },
  {
   "cell_type": "code",
   "execution_count": 141,
   "metadata": {},
   "outputs": [
    {
     "data": {
      "text/plain": [
       "2.6019768932180369"
      ]
     },
     "execution_count": 141,
     "metadata": {},
     "output_type": "execute_result"
    }
   ],
   "source": [
    "prediction = regressor.predict(X_test1)\n",
    "prediction.max()"
   ]
  },
  {
   "cell_type": "code",
   "execution_count": 106,
   "metadata": {
    "collapsed": true
   },
   "outputs": [],
   "source": [
    "from sklearn import linear_model\n",
    "reg = linear_model.Lasso(alpha = 0.5)\n"
   ]
  },
  {
   "cell_type": "code",
   "execution_count": 107,
   "metadata": {},
   "outputs": [
    {
     "data": {
      "text/plain": [
       "Lasso(alpha=0.5, copy_X=True, fit_intercept=True, max_iter=1000,\n",
       "   normalize=False, positive=False, precompute=False, random_state=None,\n",
       "   selection='cyclic', tol=0.0001, warm_start=False)"
      ]
     },
     "execution_count": 107,
     "metadata": {},
     "output_type": "execute_result"
    }
   ],
   "source": [
    "reg.fit(X_train1,y_train1)\n"
   ]
  },
  {
   "cell_type": "code",
   "execution_count": 67,
   "metadata": {
    "collapsed": true
   },
   "outputs": [],
   "source": [
    "#pred1 = reg.predict(X_test1)\n",
    "#y_test1"
   ]
  },
  {
   "cell_type": "code",
   "execution_count": 61,
   "metadata": {
    "collapsed": true
   },
   "outputs": [],
   "source": [
    "from sklearn.linear_model import ElasticNet\n",
    "alpha = 0.1\n",
    "from sklearn.metrics import r2_score\n",
    "\n",
    "enet = ElasticNet(alpha=alpha, l1_ratio=0.7)\n"
   ]
  },
  {
   "cell_type": "code",
   "execution_count": 62,
   "metadata": {
    "collapsed": true
   },
   "outputs": [],
   "source": [
    "y_pred_lasso1 = enet.fit(X_train1, y_train1).predict(X_test1)"
   ]
  },
  {
   "cell_type": "code",
   "execution_count": 63,
   "metadata": {},
   "outputs": [
    {
     "data": {
      "text/plain": [
       "0.00049865800293791285"
      ]
     },
     "execution_count": 63,
     "metadata": {},
     "output_type": "execute_result"
    }
   ],
   "source": [
    "r2_score_lasso = r2_score(y_test1, y_pred_lasso1)\n",
    "r2_score_lasso"
   ]
  },
  {
   "cell_type": "code",
   "execution_count": 68,
   "metadata": {},
   "outputs": [
    {
     "ename": "ValueError",
     "evalue": "Classification metrics can't handle a mix of multiclass and continuous targets",
     "output_type": "error",
     "traceback": [
      "\u001b[0;31m---------------------------------------------------------------------------\u001b[0m",
      "\u001b[0;31mValueError\u001b[0m                                Traceback (most recent call last)",
      "\u001b[0;32m<ipython-input-68-1195693b1c89>\u001b[0m in \u001b[0;36m<module>\u001b[0;34m()\u001b[0m\n\u001b[0;32m----> 1\u001b[0;31m \u001b[0mprint\u001b[0m\u001b[0;34m(\u001b[0m\u001b[0mmetrics\u001b[0m\u001b[0;34m.\u001b[0m\u001b[0maccuracy_score\u001b[0m\u001b[0;34m(\u001b[0m\u001b[0my_test1\u001b[0m\u001b[0;34m.\u001b[0m\u001b[0mfthg\u001b[0m\u001b[0;34m,\u001b[0m\u001b[0my_pred_lasso1\u001b[0m\u001b[0;34m)\u001b[0m\u001b[0;34m)\u001b[0m\u001b[0;34m\u001b[0m\u001b[0m\n\u001b[0m",
      "\u001b[0;32m/Users/denisbolshakov/anaconda/lib/python3.6/site-packages/sklearn/metrics/classification.py\u001b[0m in \u001b[0;36maccuracy_score\u001b[0;34m(y_true, y_pred, normalize, sample_weight)\u001b[0m\n\u001b[1;32m    174\u001b[0m \u001b[0;34m\u001b[0m\u001b[0m\n\u001b[1;32m    175\u001b[0m     \u001b[0;31m# Compute accuracy for each possible representation\u001b[0m\u001b[0;34m\u001b[0m\u001b[0;34m\u001b[0m\u001b[0m\n\u001b[0;32m--> 176\u001b[0;31m     \u001b[0my_type\u001b[0m\u001b[0;34m,\u001b[0m \u001b[0my_true\u001b[0m\u001b[0;34m,\u001b[0m \u001b[0my_pred\u001b[0m \u001b[0;34m=\u001b[0m \u001b[0m_check_targets\u001b[0m\u001b[0;34m(\u001b[0m\u001b[0my_true\u001b[0m\u001b[0;34m,\u001b[0m \u001b[0my_pred\u001b[0m\u001b[0;34m)\u001b[0m\u001b[0;34m\u001b[0m\u001b[0m\n\u001b[0m\u001b[1;32m    177\u001b[0m     \u001b[0;32mif\u001b[0m \u001b[0my_type\u001b[0m\u001b[0;34m.\u001b[0m\u001b[0mstartswith\u001b[0m\u001b[0;34m(\u001b[0m\u001b[0;34m'multilabel'\u001b[0m\u001b[0;34m)\u001b[0m\u001b[0;34m:\u001b[0m\u001b[0;34m\u001b[0m\u001b[0m\n\u001b[1;32m    178\u001b[0m         \u001b[0mdiffering_labels\u001b[0m \u001b[0;34m=\u001b[0m \u001b[0mcount_nonzero\u001b[0m\u001b[0;34m(\u001b[0m\u001b[0my_true\u001b[0m \u001b[0;34m-\u001b[0m \u001b[0my_pred\u001b[0m\u001b[0;34m,\u001b[0m \u001b[0maxis\u001b[0m\u001b[0;34m=\u001b[0m\u001b[0;36m1\u001b[0m\u001b[0;34m)\u001b[0m\u001b[0;34m\u001b[0m\u001b[0m\n",
      "\u001b[0;32m/Users/denisbolshakov/anaconda/lib/python3.6/site-packages/sklearn/metrics/classification.py\u001b[0m in \u001b[0;36m_check_targets\u001b[0;34m(y_true, y_pred)\u001b[0m\n\u001b[1;32m     79\u001b[0m     \u001b[0;32mif\u001b[0m \u001b[0mlen\u001b[0m\u001b[0;34m(\u001b[0m\u001b[0my_type\u001b[0m\u001b[0;34m)\u001b[0m \u001b[0;34m>\u001b[0m \u001b[0;36m1\u001b[0m\u001b[0;34m:\u001b[0m\u001b[0;34m\u001b[0m\u001b[0m\n\u001b[1;32m     80\u001b[0m         raise ValueError(\"Classification metrics can't handle a mix of {0} \"\n\u001b[0;32m---> 81\u001b[0;31m                          \"and {1} targets\".format(type_true, type_pred))\n\u001b[0m\u001b[1;32m     82\u001b[0m \u001b[0;34m\u001b[0m\u001b[0m\n\u001b[1;32m     83\u001b[0m     \u001b[0;31m# We can't have more than one value on y_type => The set is no more needed\u001b[0m\u001b[0;34m\u001b[0m\u001b[0;34m\u001b[0m\u001b[0m\n",
      "\u001b[0;31mValueError\u001b[0m: Classification metrics can't handle a mix of multiclass and continuous targets"
     ]
    }
   ],
   "source": [
    "print(metrics.accuracy_score(y_test1.fthg,y_pred_lasso1))"
   ]
  },
  {
   "cell_type": "code",
   "execution_count": 135,
   "metadata": {},
   "outputs": [
    {
     "name": "stderr",
     "output_type": "stream",
     "text": [
      "/Users/denisbolshakov/anaconda/lib/python3.6/site-packages/sklearn/grid_search.py:42: DeprecationWarning: This module was deprecated in version 0.18 in favor of the model_selection module into which all the refactored classes and functions are moved. This module will be removed in 0.20.\n",
      "  DeprecationWarning)\n"
     ]
    },
    {
     "ename": "NameError",
     "evalue": "name 'f1_scorer' is not defined",
     "output_type": "error",
     "traceback": [
      "\u001b[0;31m---------------------------------------------------------------------------\u001b[0m",
      "\u001b[0;31mNameError\u001b[0m                                 Traceback (most recent call last)",
      "\u001b[0;32m<ipython-input-135-9709c51083fe>\u001b[0m in \u001b[0;36m<module>\u001b[0;34m()\u001b[0m\n\u001b[1;32m     24\u001b[0m \"\"\"\n\u001b[1;32m     25\u001b[0m grid_obj = GridSearchCV(clf,\n\u001b[0;32m---> 26\u001b[0;31m                         \u001b[0mscoring\u001b[0m\u001b[0;34m=\u001b[0m\u001b[0mf1_scorer\u001b[0m\u001b[0;34m,\u001b[0m\u001b[0;34m\u001b[0m\u001b[0m\n\u001b[0m\u001b[1;32m     27\u001b[0m                         \u001b[0mparam_grid\u001b[0m\u001b[0;34m=\u001b[0m\u001b[0mparameters\u001b[0m\u001b[0;34m,\u001b[0m\u001b[0;34m\u001b[0m\u001b[0m\n\u001b[1;32m     28\u001b[0m                         cv=5)\n",
      "\u001b[0;31mNameError\u001b[0m: name 'f1_scorer' is not defined"
     ]
    }
   ],
   "source": [
    "import xgboost as xgb\n",
    "from sklearn.grid_search import GridSearchCV\n",
    "\n",
    "from sklearn.metrics import make_scorer\n",
    "from sklearn.metrics import f1_score\n",
    "\n",
    "parameters = { 'learning_rate' : [0.1],\n",
    "               'n_estimators' : [40],\n",
    "               'max_depth': [3],\n",
    "               'min_child_weight': [3],\n",
    "               'gamma':[0.4],\n",
    "               'subsample' : [0.8],\n",
    "               'colsample_bytree' : [0.8],\n",
    "               'scale_pos_weight' : [1],\n",
    "               'reg_alpha':[1e-5]\n",
    "             }  \n",
    "\"\"\"\n",
    "clf = xgb.XGBClassifier(base_score=0.5, colsample_bytree=0.5, \n",
    "                               gamma=0.017,learning_rate=0.15, max_delta_step=0, \n",
    "                               max_depth=8, min_child_weight=3, n_estimators=300, \n",
    "                               nthread=-1, objective='binary:logistic', seed=0, \n",
    "                               silent=True, subsample=0.9)\n",
    "\n",
    "\"\"\"\n",
    "grid_obj = GridSearchCV(clf,\n",
    "                        scoring=f1_scorer,\n",
    "                        param_grid=parameters,\n",
    "                        cv=5)\n",
    "\n"
   ]
  },
  {
   "cell_type": "code",
   "execution_count": 131,
   "metadata": {},
   "outputs": [
    {
     "data": {
      "text/plain": [
       "pandas.core.series.Series"
      ]
     },
     "execution_count": 131,
     "metadata": {},
     "output_type": "execute_result"
    }
   ],
   "source": [
    "type(y_train1.fthg)"
   ]
  },
  {
   "cell_type": "code",
   "execution_count": 154,
   "metadata": {
    "collapsed": true
   },
   "outputs": [],
   "source": [
    "#from sklearn import metrics\n",
    "from sklearn import tree\n",
    "from sklearn.cross_validation import cross_val_score"
   ]
  },
  {
   "cell_type": "code",
   "execution_count": 164,
   "metadata": {},
   "outputs": [
    {
     "name": "stderr",
     "output_type": "stream",
     "text": [
      "/Users/denisbolshakov/anaconda/lib/python3.6/site-packages/sklearn/cross_validation.py:553: Warning: The least populated class in y has only 1 members, which is too few. The minimum number of labels for any class cannot be less than n_folds=10.\n",
      "  % (min_labels, self.n_folds)), Warning)\n"
     ]
    },
    {
     "ename": "IndexError",
     "evalue": "too many indices for array",
     "output_type": "error",
     "traceback": [
      "\u001b[0;31m---------------------------------------------------------------------------\u001b[0m",
      "\u001b[0;31mIndexError\u001b[0m                                Traceback (most recent call last)",
      "\u001b[0;32m<ipython-input-164-447d94dc2a25>\u001b[0m in \u001b[0;36m<module>\u001b[0;34m()\u001b[0m\n\u001b[1;32m      8\u001b[0m \u001b[0;34m\u001b[0m\u001b[0m\n\u001b[1;32m      9\u001b[0m \u001b[0mscore1\u001b[0m \u001b[0;34m=\u001b[0m \u001b[0mcross_val_score\u001b[0m\u001b[0;34m(\u001b[0m\u001b[0mclf\u001b[0m\u001b[0;34m,\u001b[0m\u001b[0mX_train1\u001b[0m\u001b[0;34m,\u001b[0m \u001b[0my_train1\u001b[0m\u001b[0;34m,\u001b[0m \u001b[0mcv\u001b[0m\u001b[0;34m=\u001b[0m\u001b[0;36m10\u001b[0m\u001b[0;34m,\u001b[0m \u001b[0mscoring\u001b[0m\u001b[0;34m=\u001b[0m\u001b[0;34m\"accuracy\"\u001b[0m\u001b[0;34m)\u001b[0m\u001b[0;34m.\u001b[0m\u001b[0mmean\u001b[0m\u001b[0;34m(\u001b[0m\u001b[0;34m)\u001b[0m\u001b[0;34m\u001b[0m\u001b[0m\n\u001b[0;32m---> 10\u001b[0;31m \u001b[0mscore2\u001b[0m \u001b[0;34m=\u001b[0m \u001b[0mcross_val_score\u001b[0m\u001b[0;34m(\u001b[0m\u001b[0mlr\u001b[0m\u001b[0;34m,\u001b[0m\u001b[0mX_train1\u001b[0m\u001b[0;34m,\u001b[0m \u001b[0my_train1\u001b[0m\u001b[0;34m,\u001b[0m \u001b[0mcv\u001b[0m\u001b[0;34m=\u001b[0m\u001b[0;36m10\u001b[0m\u001b[0;34m,\u001b[0m \u001b[0mscoring\u001b[0m\u001b[0;34m=\u001b[0m\u001b[0;34m\"accuracy\"\u001b[0m\u001b[0;34m)\u001b[0m\u001b[0;34m.\u001b[0m\u001b[0mmean\u001b[0m\u001b[0;34m(\u001b[0m\u001b[0;34m)\u001b[0m\u001b[0;34m\u001b[0m\u001b[0m\n\u001b[0m",
      "\u001b[0;32m/Users/denisbolshakov/anaconda/lib/python3.6/site-packages/sklearn/cross_validation.py\u001b[0m in \u001b[0;36mcross_val_score\u001b[0;34m(estimator, X, y, scoring, cv, n_jobs, verbose, fit_params, pre_dispatch)\u001b[0m\n\u001b[1;32m   1570\u001b[0m     \u001b[0mX\u001b[0m\u001b[0;34m,\u001b[0m \u001b[0my\u001b[0m \u001b[0;34m=\u001b[0m \u001b[0mindexable\u001b[0m\u001b[0;34m(\u001b[0m\u001b[0mX\u001b[0m\u001b[0;34m,\u001b[0m \u001b[0my\u001b[0m\u001b[0;34m)\u001b[0m\u001b[0;34m\u001b[0m\u001b[0m\n\u001b[1;32m   1571\u001b[0m \u001b[0;34m\u001b[0m\u001b[0m\n\u001b[0;32m-> 1572\u001b[0;31m     \u001b[0mcv\u001b[0m \u001b[0;34m=\u001b[0m \u001b[0mcheck_cv\u001b[0m\u001b[0;34m(\u001b[0m\u001b[0mcv\u001b[0m\u001b[0;34m,\u001b[0m \u001b[0mX\u001b[0m\u001b[0;34m,\u001b[0m \u001b[0my\u001b[0m\u001b[0;34m,\u001b[0m \u001b[0mclassifier\u001b[0m\u001b[0;34m=\u001b[0m\u001b[0mis_classifier\u001b[0m\u001b[0;34m(\u001b[0m\u001b[0mestimator\u001b[0m\u001b[0;34m)\u001b[0m\u001b[0;34m)\u001b[0m\u001b[0;34m\u001b[0m\u001b[0m\n\u001b[0m\u001b[1;32m   1573\u001b[0m     \u001b[0mscorer\u001b[0m \u001b[0;34m=\u001b[0m \u001b[0mcheck_scoring\u001b[0m\u001b[0;34m(\u001b[0m\u001b[0mestimator\u001b[0m\u001b[0;34m,\u001b[0m \u001b[0mscoring\u001b[0m\u001b[0;34m=\u001b[0m\u001b[0mscoring\u001b[0m\u001b[0;34m)\u001b[0m\u001b[0;34m\u001b[0m\u001b[0m\n\u001b[1;32m   1574\u001b[0m     \u001b[0;31m# We clone the estimator to make sure that all the folds are\u001b[0m\u001b[0;34m\u001b[0m\u001b[0;34m\u001b[0m\u001b[0m\n",
      "\u001b[0;32m/Users/denisbolshakov/anaconda/lib/python3.6/site-packages/sklearn/cross_validation.py\u001b[0m in \u001b[0;36mcheck_cv\u001b[0;34m(cv, X, y, classifier)\u001b[0m\n\u001b[1;32m   1833\u001b[0m         \u001b[0;32mif\u001b[0m \u001b[0mclassifier\u001b[0m\u001b[0;34m:\u001b[0m\u001b[0;34m\u001b[0m\u001b[0m\n\u001b[1;32m   1834\u001b[0m             \u001b[0;32mif\u001b[0m \u001b[0mtype_of_target\u001b[0m\u001b[0;34m(\u001b[0m\u001b[0my\u001b[0m\u001b[0;34m)\u001b[0m \u001b[0;32min\u001b[0m \u001b[0;34m[\u001b[0m\u001b[0;34m'binary'\u001b[0m\u001b[0;34m,\u001b[0m \u001b[0;34m'multiclass'\u001b[0m\u001b[0;34m]\u001b[0m\u001b[0;34m:\u001b[0m\u001b[0;34m\u001b[0m\u001b[0m\n\u001b[0;32m-> 1835\u001b[0;31m                 \u001b[0mcv\u001b[0m \u001b[0;34m=\u001b[0m \u001b[0mStratifiedKFold\u001b[0m\u001b[0;34m(\u001b[0m\u001b[0my\u001b[0m\u001b[0;34m,\u001b[0m \u001b[0mcv\u001b[0m\u001b[0;34m)\u001b[0m\u001b[0;34m\u001b[0m\u001b[0m\n\u001b[0m\u001b[1;32m   1836\u001b[0m             \u001b[0;32melse\u001b[0m\u001b[0;34m:\u001b[0m\u001b[0;34m\u001b[0m\u001b[0m\n\u001b[1;32m   1837\u001b[0m                 \u001b[0mcv\u001b[0m \u001b[0;34m=\u001b[0m \u001b[0mKFold\u001b[0m\u001b[0;34m(\u001b[0m\u001b[0m_num_samples\u001b[0m\u001b[0;34m(\u001b[0m\u001b[0my\u001b[0m\u001b[0;34m)\u001b[0m\u001b[0;34m,\u001b[0m \u001b[0mcv\u001b[0m\u001b[0;34m)\u001b[0m\u001b[0;34m\u001b[0m\u001b[0m\n",
      "\u001b[0;32m/Users/denisbolshakov/anaconda/lib/python3.6/site-packages/sklearn/cross_validation.py\u001b[0m in \u001b[0;36m__init__\u001b[0;34m(self, y, n_folds, shuffle, random_state)\u001b[0m\n\u001b[1;32m    568\u001b[0m         \u001b[0;32mfor\u001b[0m \u001b[0mtest_fold_idx\u001b[0m\u001b[0;34m,\u001b[0m \u001b[0mper_label_splits\u001b[0m \u001b[0;32min\u001b[0m \u001b[0menumerate\u001b[0m\u001b[0;34m(\u001b[0m\u001b[0mzip\u001b[0m\u001b[0;34m(\u001b[0m\u001b[0;34m*\u001b[0m\u001b[0mper_label_cvs\u001b[0m\u001b[0;34m)\u001b[0m\u001b[0;34m)\u001b[0m\u001b[0;34m:\u001b[0m\u001b[0;34m\u001b[0m\u001b[0m\n\u001b[1;32m    569\u001b[0m             \u001b[0;32mfor\u001b[0m \u001b[0mlabel\u001b[0m\u001b[0;34m,\u001b[0m \u001b[0;34m(\u001b[0m\u001b[0m_\u001b[0m\u001b[0;34m,\u001b[0m \u001b[0mtest_split\u001b[0m\u001b[0;34m)\u001b[0m \u001b[0;32min\u001b[0m \u001b[0mzip\u001b[0m\u001b[0;34m(\u001b[0m\u001b[0munique_labels\u001b[0m\u001b[0;34m,\u001b[0m \u001b[0mper_label_splits\u001b[0m\u001b[0;34m)\u001b[0m\u001b[0;34m:\u001b[0m\u001b[0;34m\u001b[0m\u001b[0m\n\u001b[0;32m--> 570\u001b[0;31m                 \u001b[0mlabel_test_folds\u001b[0m \u001b[0;34m=\u001b[0m \u001b[0mtest_folds\u001b[0m\u001b[0;34m[\u001b[0m\u001b[0my\u001b[0m \u001b[0;34m==\u001b[0m \u001b[0mlabel\u001b[0m\u001b[0;34m]\u001b[0m\u001b[0;34m\u001b[0m\u001b[0m\n\u001b[0m\u001b[1;32m    571\u001b[0m                 \u001b[0;31m# the test split can be too big because we used\u001b[0m\u001b[0;34m\u001b[0m\u001b[0;34m\u001b[0m\u001b[0m\n\u001b[1;32m    572\u001b[0m                 \u001b[0;31m# KFold(max(c, self.n_folds), self.n_folds) instead of\u001b[0m\u001b[0;34m\u001b[0m\u001b[0;34m\u001b[0m\u001b[0m\n",
      "\u001b[0;31mIndexError\u001b[0m: too many indices for array"
     ]
    }
   ],
   "source": [
    "from sklearn.neighbors import KNeighborsRegressor\n",
    "from sklearn.linear_model import LogisticRegression\n",
    "lr = LogisticRegression()\n",
    "knn = KNeighborsRegressor(n_neighbors=10)\n",
    "clf = tree.DecisionTreeRegressor()\n",
    "#clf = clf.fit(X_train1, y_train1)\n",
    "#knn.fit(X_train1, y_train1)\n",
    "\n",
    "score1 = cross_val_score(clf,X_train1, y_train1, cv=10, scoring=\"accuracy\").mean()\n",
    "score2 = cross_val_score(lr,X_train1, y_train1, cv=10, scoring=\"accuracy\").mean()\n"
   ]
  },
  {
   "cell_type": "code",
   "execution_count": 165,
   "metadata": {},
   "outputs": [
    {
     "name": "stderr",
     "output_type": "stream",
     "text": [
      "/Users/denisbolshakov/anaconda/lib/python3.6/site-packages/sklearn/neural_network/multilayer_perceptron.py:912: DataConversionWarning: A column-vector y was passed when a 1d array was expected. Please change the shape of y to (n_samples, ), for example using ravel().\n",
      "  y = column_or_1d(y, warn=True)\n"
     ]
    },
    {
     "data": {
      "text/plain": [
       "MLPClassifier(activation='relu', alpha=0.0001, batch_size='auto', beta_1=0.9,\n",
       "       beta_2=0.999, early_stopping=False, epsilon=1e-08,\n",
       "       hidden_layer_sizes=200, learning_rate='constant',\n",
       "       learning_rate_init=0.001, max_iter=200, momentum=0.9,\n",
       "       nesterovs_momentum=True, power_t=0.5, random_state=None,\n",
       "       shuffle=True, solver='adam', tol=0.0001, validation_fraction=0.1,\n",
       "       verbose=False, warm_start=False)"
      ]
     },
     "execution_count": 165,
     "metadata": {},
     "output_type": "execute_result"
    }
   ],
   "source": [
    "from sklearn.neural_network import MLPClassifier\n",
    "clf = MLPClassifier(hidden_layer_sizes=200)\n",
    "clf.fit(X_train1, y_train1)\n"
   ]
  },
  {
   "cell_type": "code",
   "execution_count": 167,
   "metadata": {},
   "outputs": [
    {
     "data": {
      "text/plain": [
       "<matplotlib.text.Text at 0x11fe48da0>"
      ]
     },
     "execution_count": 167,
     "metadata": {},
     "output_type": "execute_result"
    },
    {
     "data": {
      "image/png": "[encoded data removed]",
      "text/plain": [
       "<matplotlib.figure.Figure at 0x11fe27a58>"
      ]
     },
     "metadata": {},
     "output_type": "display_data"
    }
   ],
   "source": [
    "pred1 = clf.predict(X_test1)\n",
    "plt.scatter(y_test1,pred1)\n",
    "plt.xlabel('Y Test')\n",
    "plt.ylabel('Predicted Y')\n",
    "# (y1 - y) "
   ]
  },
  {
   "cell_type": "code",
   "execution_count": 141,
   "metadata": {},
   "outputs": [
    {
     "data": {
      "text/html": [
       "<div>\n",
       "<style>\n",
       "    .dataframe thead tr:only-child th {\n",
       "        text-align: right;\n",
       "    }\n",
       "\n",
       "    .dataframe thead th {\n",
       "        text-align: left;\n",
       "    }\n",
       "\n",
       "    .dataframe tbody tr th {\n",
       "        vertical-align: top;\n",
       "    }\n",
       "</style>\n",
       "<table border=\"1\" class=\"dataframe\">\n",
       "  <thead>\n",
       "    <tr style=\"text-align: right;\">\n",
       "      <th></th>\n",
       "      <th>fthg</th>\n",
       "    </tr>\n",
       "  </thead>\n",
       "  <tbody>\n",
       "    <tr>\n",
       "      <th>1726</th>\n",
       "      <td>3</td>\n",
       "    </tr>\n",
       "    <tr>\n",
       "      <th>333</th>\n",
       "      <td>1</td>\n",
       "    </tr>\n",
       "    <tr>\n",
       "      <th>70</th>\n",
       "      <td>2</td>\n",
       "    </tr>\n",
       "    <tr>\n",
       "      <th>569</th>\n",
       "      <td>1</td>\n",
       "    </tr>\n",
       "    <tr>\n",
       "      <th>118</th>\n",
       "      <td>1</td>\n",
       "    </tr>\n",
       "    <tr>\n",
       "      <th>124</th>\n",
       "      <td>2</td>\n",
       "    </tr>\n",
       "    <tr>\n",
       "      <th>1554</th>\n",
       "      <td>0</td>\n",
       "    </tr>\n",
       "    <tr>\n",
       "      <th>2621</th>\n",
       "      <td>4</td>\n",
       "    </tr>\n",
       "    <tr>\n",
       "      <th>2005</th>\n",
       "      <td>3</td>\n",
       "    </tr>\n",
       "    <tr>\n",
       "      <th>923</th>\n",
       "      <td>2</td>\n",
       "    </tr>\n",
       "    <tr>\n",
       "      <th>2414</th>\n",
       "      <td>0</td>\n",
       "    </tr>\n",
       "    <tr>\n",
       "      <th>2773</th>\n",
       "      <td>2</td>\n",
       "    </tr>\n",
       "    <tr>\n",
       "      <th>2685</th>\n",
       "      <td>0</td>\n",
       "    </tr>\n",
       "    <tr>\n",
       "      <th>2380</th>\n",
       "      <td>0</td>\n",
       "    </tr>\n",
       "    <tr>\n",
       "      <th>2639</th>\n",
       "      <td>3</td>\n",
       "    </tr>\n",
       "    <tr>\n",
       "      <th>2508</th>\n",
       "      <td>1</td>\n",
       "    </tr>\n",
       "    <tr>\n",
       "      <th>2615</th>\n",
       "      <td>3</td>\n",
       "    </tr>\n",
       "    <tr>\n",
       "      <th>104</th>\n",
       "      <td>2</td>\n",
       "    </tr>\n",
       "    <tr>\n",
       "      <th>2546</th>\n",
       "      <td>4</td>\n",
       "    </tr>\n",
       "    <tr>\n",
       "      <th>672</th>\n",
       "      <td>0</td>\n",
       "    </tr>\n",
       "    <tr>\n",
       "      <th>1845</th>\n",
       "      <td>2</td>\n",
       "    </tr>\n",
       "    <tr>\n",
       "      <th>766</th>\n",
       "      <td>3</td>\n",
       "    </tr>\n",
       "    <tr>\n",
       "      <th>670</th>\n",
       "      <td>1</td>\n",
       "    </tr>\n",
       "    <tr>\n",
       "      <th>745</th>\n",
       "      <td>1</td>\n",
       "    </tr>\n",
       "    <tr>\n",
       "      <th>2291</th>\n",
       "      <td>0</td>\n",
       "    </tr>\n",
       "    <tr>\n",
       "      <th>465</th>\n",
       "      <td>2</td>\n",
       "    </tr>\n",
       "    <tr>\n",
       "      <th>652</th>\n",
       "      <td>1</td>\n",
       "    </tr>\n",
       "    <tr>\n",
       "      <th>1804</th>\n",
       "      <td>1</td>\n",
       "    </tr>\n",
       "    <tr>\n",
       "      <th>182</th>\n",
       "      <td>1</td>\n",
       "    </tr>\n",
       "    <tr>\n",
       "      <th>2060</th>\n",
       "      <td>1</td>\n",
       "    </tr>\n",
       "    <tr>\n",
       "      <th>...</th>\n",
       "      <td>...</td>\n",
       "    </tr>\n",
       "    <tr>\n",
       "      <th>1255</th>\n",
       "      <td>4</td>\n",
       "    </tr>\n",
       "    <tr>\n",
       "      <th>1820</th>\n",
       "      <td>1</td>\n",
       "    </tr>\n",
       "    <tr>\n",
       "      <th>2728</th>\n",
       "      <td>1</td>\n",
       "    </tr>\n",
       "    <tr>\n",
       "      <th>2259</th>\n",
       "      <td>0</td>\n",
       "    </tr>\n",
       "    <tr>\n",
       "      <th>820</th>\n",
       "      <td>2</td>\n",
       "    </tr>\n",
       "    <tr>\n",
       "      <th>1760</th>\n",
       "      <td>1</td>\n",
       "    </tr>\n",
       "    <tr>\n",
       "      <th>191</th>\n",
       "      <td>3</td>\n",
       "    </tr>\n",
       "    <tr>\n",
       "      <th>1597</th>\n",
       "      <td>0</td>\n",
       "    </tr>\n",
       "    <tr>\n",
       "      <th>1232</th>\n",
       "      <td>3</td>\n",
       "    </tr>\n",
       "    <tr>\n",
       "      <th>518</th>\n",
       "      <td>0</td>\n",
       "    </tr>\n",
       "    <tr>\n",
       "      <th>2568</th>\n",
       "      <td>1</td>\n",
       "    </tr>\n",
       "    <tr>\n",
       "      <th>829</th>\n",
       "      <td>4</td>\n",
       "    </tr>\n",
       "    <tr>\n",
       "      <th>2361</th>\n",
       "      <td>0</td>\n",
       "    </tr>\n",
       "    <tr>\n",
       "      <th>351</th>\n",
       "      <td>1</td>\n",
       "    </tr>\n",
       "    <tr>\n",
       "      <th>1737</th>\n",
       "      <td>3</td>\n",
       "    </tr>\n",
       "    <tr>\n",
       "      <th>701</th>\n",
       "      <td>2</td>\n",
       "    </tr>\n",
       "    <tr>\n",
       "      <th>2131</th>\n",
       "      <td>0</td>\n",
       "    </tr>\n",
       "    <tr>\n",
       "      <th>1602</th>\n",
       "      <td>1</td>\n",
       "    </tr>\n",
       "    <tr>\n",
       "      <th>1939</th>\n",
       "      <td>1</td>\n",
       "    </tr>\n",
       "    <tr>\n",
       "      <th>1739</th>\n",
       "      <td>1</td>\n",
       "    </tr>\n",
       "    <tr>\n",
       "      <th>1462</th>\n",
       "      <td>0</td>\n",
       "    </tr>\n",
       "    <tr>\n",
       "      <th>405</th>\n",
       "      <td>3</td>\n",
       "    </tr>\n",
       "    <tr>\n",
       "      <th>806</th>\n",
       "      <td>1</td>\n",
       "    </tr>\n",
       "    <tr>\n",
       "      <th>57</th>\n",
       "      <td>0</td>\n",
       "    </tr>\n",
       "    <tr>\n",
       "      <th>896</th>\n",
       "      <td>3</td>\n",
       "    </tr>\n",
       "    <tr>\n",
       "      <th>2510</th>\n",
       "      <td>3</td>\n",
       "    </tr>\n",
       "    <tr>\n",
       "      <th>2035</th>\n",
       "      <td>3</td>\n",
       "    </tr>\n",
       "    <tr>\n",
       "      <th>1448</th>\n",
       "      <td>1</td>\n",
       "    </tr>\n",
       "    <tr>\n",
       "      <th>2708</th>\n",
       "      <td>0</td>\n",
       "    </tr>\n",
       "    <tr>\n",
       "      <th>2128</th>\n",
       "      <td>2</td>\n",
       "    </tr>\n",
       "  </tbody>\n",
       "</table>\n",
       "<p>564 rows × 1 columns</p>\n",
       "</div>"
      ],
      "text/plain": [
       "      fthg\n",
       "1726     3\n",
       "333      1\n",
       "70       2\n",
       "569      1\n",
       "118      1\n",
       "124      2\n",
       "1554     0\n",
       "2621     4\n",
       "2005     3\n",
       "923      2\n",
       "2414     0\n",
       "2773     2\n",
       "2685     0\n",
       "2380     0\n",
       "2639     3\n",
       "2508     1\n",
       "2615     3\n",
       "104      2\n",
       "2546     4\n",
       "672      0\n",
       "1845     2\n",
       "766      3\n",
       "670      1\n",
       "745      1\n",
       "2291     0\n",
       "465      2\n",
       "652      1\n",
       "1804     1\n",
       "182      1\n",
       "2060     1\n",
       "...    ...\n",
       "1255     4\n",
       "1820     1\n",
       "2728     1\n",
       "2259     0\n",
       "820      2\n",
       "1760     1\n",
       "191      3\n",
       "1597     0\n",
       "1232     3\n",
       "518      0\n",
       "2568     1\n",
       "829      4\n",
       "2361     0\n",
       "351      1\n",
       "1737     3\n",
       "701      2\n",
       "2131     0\n",
       "1602     1\n",
       "1939     1\n",
       "1739     1\n",
       "1462     0\n",
       "405      3\n",
       "806      1\n",
       "57       0\n",
       "896      3\n",
       "2510     3\n",
       "2035     3\n",
       "1448     1\n",
       "2708     0\n",
       "2128     2\n",
       "\n",
       "[564 rows x 1 columns]"
      ]
     },
     "execution_count": 141,
     "metadata": {},
     "output_type": "execute_result"
    }
   ],
   "source": [
    "#metrics.mean_absolute_error(y_test1, pred1)\n",
    "y_test1"
   ]
  },
  {
   "cell_type": "code",
   "execution_count": 170,
   "metadata": {},
   "outputs": [
    {
     "data": {
      "text/plain": [
       "fthg    8\n",
       "dtype: int64"
      ]
     },
     "execution_count": 170,
     "metadata": {},
     "output_type": "execute_result"
    }
   ],
   "source": [
    "y_test1.max()"
   ]
  },
  {
   "cell_type": "code",
   "execution_count": 170,
   "metadata": {
    "collapsed": true
   },
   "outputs": [],
   "source": [
    "from sklearn.ensemble import ExtraTreesRegressor\n",
    "from sklearn.neighbors import KNeighborsRegressor\n",
    "from sklearn.linear_model import LinearRegression\n",
    "from sklearn.linear_model import RidgeCV"
   ]
  },
  {
   "cell_type": "code",
   "execution_count": 171,
   "metadata": {
    "collapsed": true
   },
   "outputs": [],
   "source": [
    "ESTIMATORS = {\n",
    "    \"Extra trees\": ExtraTreesRegressor(n_estimators=10, max_features=32,\n",
    "                                       random_state=0),\n",
    "    \"K-nn\": KNeighborsRegressor(),\n",
    "    \"Linear regression\": LinearRegression(),\n",
    "    \"Ridge\": RidgeCV(),\n",
    "}\n"
   ]
  },
  {
   "cell_type": "code",
   "execution_count": 178,
   "metadata": {
    "collapsed": true
   },
   "outputs": [],
   "source": [
    "from sklearn import metrics\n",
    "y_test_predict = {}\n",
    "for name, estimator in ESTIMATORS.items():\n",
    "    estimator.fit(X_train1, y_train1.fthg)\n",
    "    y_test_predict[name] = estimator.predict(X_test1)\n"
   ]
  },
  {
   "cell_type": "code",
   "execution_count": 179,
   "metadata": {},
   "outputs": [
    {
     "data": {
      "text/plain": [
       "array([ 1.8,  1.6,  2. ,  1.2,  1. ,  1. ,  1.2,  2.2,  2. ,  0.2,  1.2,\n",
       "        2.6,  1. ,  1.8,  0.6,  1.6,  2.6,  0.4,  3. ,  2.2,  3. ,  2.4,\n",
       "        1. ,  1.6,  0.8,  2. ,  1.2,  2.2,  1.2,  1. ,  0.6,  1. ,  2. ,\n",
       "        1.2,  2.2,  1.8,  1.8,  1. ,  1.6,  2. ,  2. ,  1.2,  1. ,  1.4,\n",
       "        3.4,  0.4,  2.4,  1.6,  3. ,  2.4,  2.6,  2.2,  1.2,  2.6,  1.8,\n",
       "        2.4,  2.4,  3.2,  1.4,  1.8,  1.4,  1.2,  1.6,  2. ,  2.2,  2. ,\n",
       "        1. ,  1.2,  1.4,  2.2,  2.2,  1.4,  0.8,  2.2,  1.4,  2.2,  2. ,\n",
       "        1.8,  1.6,  1.2,  1.6,  1.4,  2. ,  1.4,  1.4,  1.8,  2.2,  1.2,\n",
       "        0.8,  1.8,  1.4,  0.6,  1.2,  0.6,  2.2,  2.4,  2.6,  1.6,  1.8,\n",
       "        2. ,  2. ,  1.2,  1. ,  0.8,  1.8,  2.2,  2.2,  1.2,  2. ,  2.4,\n",
       "        1.2,  2. ,  1.8,  1.6,  3. ,  0.6,  2.2,  1.4,  3.4,  0.8,  1. ,\n",
       "        2.4,  1.4,  0.6,  1.8,  1.6,  1.2,  1.8,  0.8,  1.2,  2. ,  1.4,\n",
       "        1.2,  2.2,  1.2,  2.8,  1.8,  2.4,  1.2,  1.4,  1.4,  1.4,  1.4,\n",
       "        1.4,  1.6,  0.8,  2. ,  1.6,  1.2,  1. ,  1. ,  0.4,  1.8,  1.4,\n",
       "        2.6,  2. ,  1.8,  2.8,  1.4,  1.8,  1. ,  3. ,  1.4,  1.4,  1.8,\n",
       "        1.6,  0.8,  0.6,  0.6,  1.8,  2.2,  2.4,  2.4,  0.8,  1. ,  2. ,\n",
       "        1.2,  1. ,  2.2,  1.4,  0.8,  1.8,  0.8,  1. ,  1.4,  1.2,  2. ,\n",
       "        0.4,  1.6,  2.2,  2.2,  1.6,  0.8,  1.6,  1.6,  2.6,  2. ,  1.2,\n",
       "        0.8,  1.4,  0.4,  1.2,  1. ,  2. ,  1.6,  1.8,  2.6,  2.4,  1.6,\n",
       "        2.2,  1. ,  1.2,  1.2,  2.6,  1.8,  1.6,  2.4,  0.8,  1.6,  1.6,\n",
       "        1.4,  2.2,  1. ,  2.6,  1.2,  2.2,  1.8,  1.8,  1.4,  2.8,  2.2,\n",
       "        1.2,  0.8,  1.2,  2.4,  2.4,  1. ,  0.8,  1.8,  0.8,  2.2,  1. ,\n",
       "        0.2,  1.6,  1.8,  1.2,  1.8,  0.8,  1. ,  1.2,  2.4,  1. ,  2.2,\n",
       "        1.8,  1.2,  1.4,  3. ,  1.8,  2.4,  1.2,  2.6,  1.8,  2.8,  2. ,\n",
       "        1. ,  1.6,  1.4,  1.4,  2. ,  1.4,  1.4,  1.4,  2.2,  2.2,  1.6,\n",
       "        2.2,  0.8,  1.4,  0.8,  1. ,  2.4,  2.2,  1.6,  2.2,  1.8,  1.8,\n",
       "        1.8,  0.6,  3.6,  1.2,  2.2,  1.2,  2.8,  1.2,  1.8,  1. ,  2.2,\n",
       "        2.4,  2. ,  1.4,  1.2,  0.6,  2. ,  1.8,  1.6,  1.4,  1.8,  1.8,\n",
       "        1.6,  1.2,  2.2,  1.2,  1.2,  1.2,  2.2,  2.4,  2. ,  3.2,  0.4,\n",
       "        2.6,  1.8,  1.6,  1.2,  1.2,  1.6,  0.6,  1.6,  1.4,  1.2,  1.2,\n",
       "        1. ,  1.4,  0.6,  1.4,  1. ,  2. ,  0.2,  1.4,  0.8,  3.4,  2. ,\n",
       "        1.8,  2.2,  1.8,  2.2,  1.8,  2.2,  1.6,  0.4,  1.4,  1.6,  1.6,\n",
       "        2. ,  2.2,  1. ,  1. ,  1.6,  1.6,  2.8,  2.4,  2.2,  2.8,  1.6,\n",
       "        0.8,  1.6,  1.6,  3.2,  2.2,  0.8,  1.6,  3.4,  2.8,  1.6,  1.6,\n",
       "        1.4,  0.8,  2.4,  1. ,  2. ,  3. ,  2. ,  0.4,  1.2,  1.6,  2. ,\n",
       "        1.6,  1.8,  0.8,  2.4,  2.4,  1.6,  1.2,  1.4,  0. ,  1.2,  1.2,\n",
       "        2. ,  1.4,  0.8,  1.4,  2.2,  0.4,  1.4,  1.6,  0.6,  1.4,  1. ,\n",
       "        3.2,  1.4,  0.6,  1.4,  1. ,  1.6,  1. ,  1.8,  2. ,  2.4,  2. ,\n",
       "        2. ,  1.2,  2. ,  1.8,  1.6,  2.2,  1.4,  2. ,  3.2,  2.6,  1.2,\n",
       "        1.4,  1.8,  3.8,  1.2,  2.6,  1.8,  1.2,  2.2,  2.2,  0.8,  1.8,\n",
       "        1.8,  1. ,  2. ,  1.2,  1.6,  2.2,  2. ,  1.6,  3.8,  0.6,  1.4,\n",
       "        1.4,  1.6,  0.4,  3. ,  2.4,  1.8,  1.8,  1. ,  1.4,  1.4,  1.8,\n",
       "        1. ,  0.6,  1.2,  1.2,  1.6,  1.6,  1.6,  1.6,  1. ,  1.8,  1. ,\n",
       "        1.2,  2. ,  2.8,  2.2,  1.8,  0.8,  2.4,  1.2,  2.2,  1.2,  0.4,\n",
       "        1.4,  1. ,  1.2,  1.4,  2.4,  1.2,  1.8,  1.8,  1.6,  1.2,  1.4,\n",
       "        2. ,  2.2,  2.2,  1.6,  2.2,  2.8,  1. ,  2. ,  1.4,  1.6,  3.2,\n",
       "        1.2,  2.8,  0.8,  1.4,  1.6,  0.6,  1.8,  0.6,  1.2,  1. ,  1.6,\n",
       "        1.2,  1.6,  1.4,  2.2,  0.6,  1.8,  1.6,  1.6,  2.6,  1.2,  1.4,\n",
       "        1.4,  2.2,  0.8,  1.6,  2.2,  2.4,  1.4,  2.6,  2. ,  1.4,  0.4,\n",
       "        1.4,  1.6,  1.4,  2.2,  1.4,  1.2,  2. ,  2.4,  2.2,  2.2,  2.8,\n",
       "        0.2,  1.6,  1.4,  0.6,  0.8,  2.8,  2.2,  0.8,  3. ,  2.2,  2.8,\n",
       "        0.6,  2.2,  1.6])"
      ]
     },
     "execution_count": 179,
     "metadata": {},
     "output_type": "execute_result"
    }
   ],
   "source": [
    "y_test_predict[\"K-nn\"]\n",
    "#y_train1"
   ]
  },
  {
   "cell_type": "code",
   "execution_count": 53,
   "metadata": {},
   "outputs": [
    {
     "data": {
      "text/plain": [
       "<matplotlib.text.Text at 0x11c00fc50>"
      ]
     },
     "execution_count": 53,
     "metadata": {},
     "output_type": "execute_result"
    },
    {
     "data": {
      "image/png": "[encoded data removed]",
      "text/plain": [
       "<matplotlib.figure.Figure at 0x118c76ba8>"
      ]
     },
     "metadata": {},
     "output_type": "display_data"
    }
   ],
   "source": [
    "import matplotlib.pyplot as plt\n",
    "import seaborn as sns\n",
    "%matplotlib inline\n",
    "plt.scatter(y_test1,pred)\n",
    "plt.xlabel('Y Test')\n",
    "plt.ylabel('Predicted Y')"
   ]
  },
  {
   "cell_type": "code",
   "execution_count": 175,
   "metadata": {},
   "outputs": [
    {
     "data": {
      "text/plain": [
       "<matplotlib.text.Text at 0x1194822e8>"
      ]
     },
     "execution_count": 175,
     "metadata": {},
     "output_type": "execute_result"
    },
    {
     "data": {
      "image/png": "[encoded data removed]",
      "text/plain": [
       "<matplotlib.figure.Figure at 0x122220f28>"
      ]
     },
     "metadata": {},
     "output_type": "display_data"
    }
   ],
   "source": [
    "plt.scatter(y_test1,y_test_predict[\"Extra trees\"])\n",
    "plt.xlabel('Y Test')\n",
    "plt.ylabel('Predicted Y')"
   ]
  },
  {
   "cell_type": "code",
   "execution_count": 176,
   "metadata": {},
   "outputs": [
    {
     "data": {
      "text/plain": [
       "<matplotlib.text.Text at 0x11b0aa470>"
      ]
     },
     "execution_count": 176,
     "metadata": {},
     "output_type": "execute_result"
    },
    {
     "data": {
      "image/png": "[encoded data removed]",
      "text/plain": [
       "<matplotlib.figure.Figure at 0x11b0d2550>"
      ]
     },
     "metadata": {},
     "output_type": "display_data"
    }
   ],
   "source": [
    "plt.scatter(y_test1,y_test_predict[\"Ridge\"])\n",
    "plt.xlabel('Y Test')\n",
    "plt.ylabel('Predicted Y')"
   ]
  },
  {
   "cell_type": "code",
   "execution_count": 169,
   "metadata": {},
   "outputs": [
    {
     "ename": "NameError",
     "evalue": "name 'y_test_predict' is not defined",
     "output_type": "error",
     "traceback": [
      "\u001b[0;31m---------------------------------------------------------------------------\u001b[0m",
      "\u001b[0;31mNameError\u001b[0m                                 Traceback (most recent call last)",
      "\u001b[0;32m<ipython-input-169-2612be08e5c2>\u001b[0m in \u001b[0;36m<module>\u001b[0;34m()\u001b[0m\n\u001b[1;32m      1\u001b[0m \u001b[0;32mimport\u001b[0m \u001b[0mpygame\u001b[0m\u001b[0;34m,\u001b[0m \u001b[0msys\u001b[0m\u001b[0;34m\u001b[0m\u001b[0m\n\u001b[0;32m----> 2\u001b[0;31m \u001b[0my_test_predict\u001b[0m\u001b[0;34m[\u001b[0m\u001b[0;34m\"Ridge\"\u001b[0m\u001b[0;34m]\u001b[0m\u001b[0;34m\u001b[0m\u001b[0m\n\u001b[0m",
      "\u001b[0;31mNameError\u001b[0m: name 'y_test_predict' is not defined"
     ]
    }
   ],
   "source": [
    "import pygame, sys\n",
    "y_test_predict[\"Ridge\"]"
   ]
  },
  {
   "cell_type": "code",
   "execution_count": 48,
   "metadata": {
    "collapsed": true
   },
   "outputs": [],
   "source": [
    "def get_mean(dfr):\n",
    "    n_goals = dfr[(dfr[\"away_team\"]==\"Mainz\")][\"ftag\"].sum() + dfr[(dfr[\"home_team\"]==\"Mainz\")][\"fthg\"].sum()\n",
    "    number_of_games = len(dfr[(dfr[\"home_team\"]== \"Mainz\") | (dfr[\"away_team\"]== \"Mainz\") ])\n",
    "    return n_goals/number_of_games\n",
    "\n"
   ]
  },
  {
   "cell_type": "code",
   "execution_count": 49,
   "metadata": {},
   "outputs": [
    {
     "data": {
      "text/plain": [
       "1.0"
      ]
     },
     "execution_count": 49,
     "metadata": {},
     "output_type": "execute_result"
    }
   ],
   "source": [
    "get_mean(df[df.nmseason==17])"
   ]
  },
  {
   "cell_type": "code",
   "execution_count": 50,
   "metadata": {
    "collapsed": true
   },
   "outputs": [],
   "source": [
    "m = df[(df.nmseason==17) & ((df.home_team==\"Mainz\")|(df.away_team==\"Mainz\"))]"
   ]
  },
  {
   "cell_type": "code",
   "execution_count": 51,
   "metadata": {},
   "outputs": [
    {
     "ename": "SyntaxError",
     "evalue": "unexpected EOF while parsing (<ipython-input-51-cd69c977264b>, line 2)",
     "output_type": "error",
     "traceback": [
      "\u001b[0;36m  File \u001b[0;32m\"<ipython-input-51-cd69c977264b>\"\u001b[0;36m, line \u001b[0;32m2\u001b[0m\n\u001b[0;31m    \u001b[0m\n\u001b[0m    ^\u001b[0m\n\u001b[0;31mSyntaxError\u001b[0m\u001b[0;31m:\u001b[0m unexpected EOF while parsing\n"
     ]
    }
   ],
   "source": [
    "def get_std(dfr):\n",
    "    "
   ]
  },
  {
   "cell_type": "code",
   "execution_count": 52,
   "metadata": {},
   "outputs": [
    {
     "ename": "NameError",
     "evalue": "name 'y_test_predict' is not defined",
     "output_type": "error",
     "traceback": [
      "\u001b[0;31m---------------------------------------------------------------------------\u001b[0m",
      "\u001b[0;31mNameError\u001b[0m                                 Traceback (most recent call last)",
      "\u001b[0;32m<ipython-input-52-8e1a22e9eec1>\u001b[0m in \u001b[0;36m<module>\u001b[0;34m()\u001b[0m\n\u001b[1;32m      1\u001b[0m \u001b[0;32mfrom\u001b[0m \u001b[0msklearn\u001b[0m \u001b[0;32mimport\u001b[0m \u001b[0mmetrics\u001b[0m\u001b[0;34m\u001b[0m\u001b[0m\n\u001b[0;32m----> 2\u001b[0;31m \u001b[0mprint\u001b[0m\u001b[0;34m(\u001b[0m\u001b[0mmetrics\u001b[0m\u001b[0;34m.\u001b[0m\u001b[0maccuracy_score\u001b[0m\u001b[0;34m(\u001b[0m\u001b[0my_test1\u001b[0m\u001b[0;34m,\u001b[0m\u001b[0my_test_predict\u001b[0m\u001b[0;34m)\u001b[0m\u001b[0;34m)\u001b[0m\u001b[0;34m\u001b[0m\u001b[0m\n\u001b[0m",
      "\u001b[0;31mNameError\u001b[0m: name 'y_test_predict' is not defined"
     ]
    }
   ],
   "source": [
    "from sklearn import metrics\n",
    "print(metrics.accuracy_score(y_test1,y_test_predict))"
   ]
  },
  {
   "cell_type": "code",
   "execution_count": null,
   "metadata": {
    "collapsed": true
   },
   "outputs": [],
   "source": [
    "home_teams = pd.get_dummies(df[\"home_team\"], prefix=\"H\").iloc[:,1:]\n",
    "away_teams = pd.get_dummies(df[\"away_team\"], prefix=\"A\").iloc[:,1:]\n",
    "df_new = pd.concat([df, home_teams, away_teams], axis=1)\n",
    "df_new.head()"
   ]
  },
  {
   "cell_type": "code",
   "execution_count": 76,
   "metadata": {},
   "outputs": [
    {
     "data": {
      "text/plain": [
       "'\\n         Season   Wins  Loses  Draws\\nMainz  |   17        10     7      9\\n       |   18        15    20      9 \\n-----    -----------------------------            \\nBayern |   17        10     7      9\\n       |   17        10     7      9\\n         ------------------------------\\n         \\nSeason \\n  17   \\n  \\n  18\\n  19\\n    \\n'"
      ]
     },
     "execution_count": 76,
     "metadata": {},
     "output_type": "execute_result"
    }
   ],
   "source": [
    "df.head()\n",
    "\n",
    "\"\"\"\n",
    "         Season   Wins  Loses  Draws\n",
    "Mainz  |   17        10     7      9\n",
    "       |   18        15    20      9 \n",
    "-----    -----------------------------            \n",
    "Bayern |   17        10     7      9\n",
    "       |   17        10     7      9\n",
    "         ------------------------------\n",
    "         \n",
    "Season \n",
    "  17   \n",
    "  \n",
    "  18\n",
    "  19\n",
    "    \n",
    "\"\"\""
   ]
  },
  {
   "cell_type": "code",
   "execution_count": 7,
   "metadata": {
    "collapsed": true
   },
   "outputs": [],
   "source": [
    "df[\"diff\"] = df[\"fthg\"] - df[\"ftag\"]\n"
   ]
  },
  {
   "cell_type": "code",
   "execution_count": 8,
   "metadata": {},
   "outputs": [
    {
     "data": {
      "text/html": [
       "<div>\n",
       "<style>\n",
       "    .dataframe thead tr:only-child th {\n",
       "        text-align: right;\n",
       "    }\n",
       "\n",
       "    .dataframe thead th {\n",
       "        text-align: left;\n",
       "    }\n",
       "\n",
       "    .dataframe tbody tr th {\n",
       "        vertical-align: top;\n",
       "    }\n",
       "</style>\n",
       "<table border=\"1\" class=\"dataframe\">\n",
       "  <thead>\n",
       "    <tr style=\"text-align: right;\">\n",
       "      <th></th>\n",
       "      <th>home_team</th>\n",
       "      <th>away_team</th>\n",
       "      <th>fthg</th>\n",
       "      <th>ftag</th>\n",
       "      <th>nmseason</th>\n",
       "      <th>diff</th>\n",
       "    </tr>\n",
       "  </thead>\n",
       "  <tbody>\n",
       "    <tr>\n",
       "      <th>0</th>\n",
       "      <td>Bayern Munich</td>\n",
       "      <td>Leverkusen</td>\n",
       "      <td>3</td>\n",
       "      <td>1</td>\n",
       "      <td>17</td>\n",
       "      <td>2</td>\n",
       "    </tr>\n",
       "    <tr>\n",
       "      <th>1</th>\n",
       "      <td>Hamburg</td>\n",
       "      <td>Augsburg</td>\n",
       "      <td>1</td>\n",
       "      <td>0</td>\n",
       "      <td>17</td>\n",
       "      <td>1</td>\n",
       "    </tr>\n",
       "    <tr>\n",
       "      <th>2</th>\n",
       "      <td>Hertha</td>\n",
       "      <td>Stuttgart</td>\n",
       "      <td>2</td>\n",
       "      <td>0</td>\n",
       "      <td>17</td>\n",
       "      <td>2</td>\n",
       "    </tr>\n",
       "    <tr>\n",
       "      <th>3</th>\n",
       "      <td>Hoffenheim</td>\n",
       "      <td>Werder Bremen</td>\n",
       "      <td>1</td>\n",
       "      <td>0</td>\n",
       "      <td>17</td>\n",
       "      <td>1</td>\n",
       "    </tr>\n",
       "    <tr>\n",
       "      <th>4</th>\n",
       "      <td>Mainz</td>\n",
       "      <td>Hannover</td>\n",
       "      <td>0</td>\n",
       "      <td>1</td>\n",
       "      <td>17</td>\n",
       "      <td>-1</td>\n",
       "    </tr>\n",
       "  </tbody>\n",
       "</table>\n",
       "</div>"
      ],
      "text/plain": [
       "       home_team      away_team  fthg  ftag  nmseason  diff\n",
       "0  Bayern Munich     Leverkusen     3     1        17     2\n",
       "1        Hamburg       Augsburg     1     0        17     1\n",
       "2         Hertha      Stuttgart     2     0        17     2\n",
       "3     Hoffenheim  Werder Bremen     1     0        17     1\n",
       "4          Mainz       Hannover     0     1        17    -1"
      ]
     },
     "execution_count": 8,
     "metadata": {},
     "output_type": "execute_result"
    }
   ],
   "source": [
    "df.head()"
   ]
  },
  {
   "cell_type": "code",
   "execution_count": null,
   "metadata": {
    "collapsed": true
   },
   "outputs": [],
   "source": []
  }
 ],
 "metadata": {
  "kernelspec": {
   "display_name": "Python 3",
   "language": "python",
   "name": "python3"
  },
  "language_info": {
   "codemirror_mode": {
    "name": "ipython",
    "version": 3
   },
   "file_extension": ".py",
   "mimetype": "text/x-python",
   "name": "python",
   "nbconvert_exporter": "python",
   "pygments_lexer": "ipython3",
   "version": "3.6.2"
  }
 },
 "nbformat": 4,
 "nbformat_minor": 2
}
